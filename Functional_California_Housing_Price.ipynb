{
  "nbformat": 4,
  "nbformat_minor": 0,
  "metadata": {
    "colab": {
      "name": "Functional_California_Housing_Price.ipynb",
      "provenance": []
    },
    "kernelspec": {
      "name": "python3",
      "display_name": "Python 3"
    },
    "language_info": {
      "name": "python"
    },
    "accelerator": "GPU",
    "gpuClass": "standard"
  },
  "cells": [
    {
      "cell_type": "markdown",
      "source": [
        "FUNCTIONAL API"
      ],
      "metadata": {
        "id": "RC-WWrAzqpZm"
      }
    },
    {
      "cell_type": "code",
      "source": [
        "import numpy as np\n",
        "import pandas as pd\n",
        "import matplotlib.pyplot as plt\n",
        "import tensorflow as tf\n",
        "from tensorflow import keras"
      ],
      "metadata": {
        "id": "y3TaUWRTq8ZG"
      },
      "execution_count": null,
      "outputs": []
    },
    {
      "cell_type": "code",
      "source": [
        "from sklearn.datasets import fetch_california_housing\n",
        "housing = fetch_california_housing()"
      ],
      "metadata": {
        "id": "T-RGq6vfsZEh"
      },
      "execution_count": null,
      "outputs": []
    },
    {
      "cell_type": "code",
      "source": [
        "from sklearn.model_selection import train_test_split\n",
        "X_train_full,X_test,y_train_full,y_test = train_test_split(housing.data,housing.target,random_state =42)\n",
        "X_train,X_valid,y_train,y_valid = train_test_split(X_train_full,y_train_full,random_state = 42)"
      ],
      "metadata": {
        "id": "QTTDQ_7rsaD1"
      },
      "execution_count": null,
      "outputs": []
    },
    {
      "cell_type": "code",
      "source": [
        "from sklearn.preprocessing import StandardScaler\n",
        "scaler = StandardScaler()\n",
        "X_train = scaler.fit_transform(X_train)\n",
        "X_valid = scaler.transform(X_valid)\n",
        "X_test = scaler.transform(X_test)"
      ],
      "metadata": {
        "id": "4Pk-Opnosjsj"
      },
      "execution_count": null,
      "outputs": []
    },
    {
      "cell_type": "code",
      "source": [
        "np.random.seed(42)\n",
        "tf.random.set_seed(42)"
      ],
      "metadata": {
        "id": "QlohzYepsnYS"
      },
      "execution_count": null,
      "outputs": []
    },
    {
      "cell_type": "code",
      "source": [
        "X_train.shape"
      ],
      "metadata": {
        "colab": {
          "base_uri": "https://localhost:8080/"
        },
        "id": "nflRbbtWspyX",
        "outputId": "e2ecba27-0db3-4e3a-f8cb-381326332d64"
      },
      "execution_count": null,
      "outputs": [
        {
          "output_type": "execute_result",
          "data": {
            "text/plain": [
              "(11610, 8)"
            ]
          },
          "metadata": {},
          "execution_count": 6
        }
      ]
    },
    {
      "cell_type": "code",
      "source": [
        "input_ = keras.layers.Input(shape =X_train.shape[1:])\n",
        "hidden1 = keras.layers.Dense(30,activation ='relu')(input_)\n",
        "hidden2 = keras.layers.Dense(30,activation ='relu')(hidden1)\n",
        "concat = keras.layers.concatenate([input_,hidden2])\n",
        "output = keras.layers.Dense(1)(concat)\n",
        "model = keras.models.Model(inputs =[input_],outputs =[output])"
      ],
      "metadata": {
        "id": "xB-vc33rqfT2"
      },
      "execution_count": null,
      "outputs": []
    },
    {
      "cell_type": "code",
      "source": [
        "model.summary()"
      ],
      "metadata": {
        "colab": {
          "base_uri": "https://localhost:8080/"
        },
        "id": "Bp3NKA4rtFIp",
        "outputId": "88040991-784d-434f-e2e5-11a55ecf01cc"
      },
      "execution_count": null,
      "outputs": [
        {
          "output_type": "stream",
          "name": "stdout",
          "text": [
            "Model: \"model\"\n",
            "__________________________________________________________________________________________________\n",
            " Layer (type)                   Output Shape         Param #     Connected to                     \n",
            "==================================================================================================\n",
            " input_1 (InputLayer)           [(None, 8)]          0           []                               \n",
            "                                                                                                  \n",
            " dense (Dense)                  (None, 30)           270         ['input_1[0][0]']                \n",
            "                                                                                                  \n",
            " dense_1 (Dense)                (None, 30)           930         ['dense[0][0]']                  \n",
            "                                                                                                  \n",
            " concatenate (Concatenate)      (None, 38)           0           ['input_1[0][0]',                \n",
            "                                                                  'dense_1[0][0]']                \n",
            "                                                                                                  \n",
            " dense_2 (Dense)                (None, 1)            39          ['concatenate[0][0]']            \n",
            "                                                                                                  \n",
            "==================================================================================================\n",
            "Total params: 1,239\n",
            "Trainable params: 1,239\n",
            "Non-trainable params: 0\n",
            "__________________________________________________________________________________________________\n"
          ]
        }
      ]
    },
    {
      "cell_type": "code",
      "source": [
        "model.compile(loss =\"mean_squared_error\",optimizer = keras.optimizers.SGD(lr =1e-3),metrics = ['mae'])"
      ],
      "metadata": {
        "colab": {
          "base_uri": "https://localhost:8080/"
        },
        "id": "NY69jA_rtFFQ",
        "outputId": "74742749-abdf-4006-c33a-636b3106dbee"
      },
      "execution_count": null,
      "outputs": [
        {
          "output_type": "stream",
          "name": "stderr",
          "text": [
            "/usr/local/lib/python3.7/dist-packages/keras/optimizer_v2/gradient_descent.py:102: UserWarning: The `lr` argument is deprecated, use `learning_rate` instead.\n",
            "  super(SGD, self).__init__(name, **kwargs)\n"
          ]
        }
      ]
    },
    {
      "cell_type": "code",
      "source": [
        "model_history = model.fit(X_train,y_train ,epochs =40 ,validation_data =(X_valid,y_valid))"
      ],
      "metadata": {
        "colab": {
          "base_uri": "https://localhost:8080/"
        },
        "id": "wXAR4CJ1tFCJ",
        "outputId": "7620196a-52c0-45e9-f1b1-a7e026b4bb18"
      },
      "execution_count": null,
      "outputs": [
        {
          "output_type": "stream",
          "name": "stdout",
          "text": [
            "Epoch 1/40\n",
            "363/363 [==============================] - 6s 4ms/step - loss: 1.2611 - mae: 0.7852 - val_loss: 3.3940 - val_mae: 0.6266\n",
            "Epoch 2/40\n",
            "363/363 [==============================] - 2s 5ms/step - loss: 0.6580 - mae: 0.5812 - val_loss: 0.9360 - val_mae: 0.5652\n",
            "Epoch 3/40\n",
            "363/363 [==============================] - 2s 5ms/step - loss: 0.5878 - mae: 0.5550 - val_loss: 0.5649 - val_mae: 0.5328\n",
            "Epoch 4/40\n",
            "363/363 [==============================] - 2s 5ms/step - loss: 0.5582 - mae: 0.5405 - val_loss: 0.5712 - val_mae: 0.5239\n",
            "Epoch 5/40\n",
            "363/363 [==============================] - 1s 3ms/step - loss: 0.5347 - mae: 0.5274 - val_loss: 0.5045 - val_mae: 0.5068\n",
            "Epoch 6/40\n",
            "363/363 [==============================] - 1s 3ms/step - loss: 0.5158 - mae: 0.5182 - val_loss: 0.4831 - val_mae: 0.4966\n",
            "Epoch 7/40\n",
            "363/363 [==============================] - 1s 3ms/step - loss: 0.5002 - mae: 0.5097 - val_loss: 0.4639 - val_mae: 0.4890\n",
            "Epoch 8/40\n",
            "363/363 [==============================] - 1s 3ms/step - loss: 0.4876 - mae: 0.5028 - val_loss: 0.4638 - val_mae: 0.4833\n",
            "Epoch 9/40\n",
            "363/363 [==============================] - 1s 3ms/step - loss: 0.4760 - mae: 0.4970 - val_loss: 0.4421 - val_mae: 0.4764\n",
            "Epoch 10/40\n",
            "363/363 [==============================] - 1s 3ms/step - loss: 0.4659 - mae: 0.4920 - val_loss: 0.4313 - val_mae: 0.4707\n",
            "Epoch 11/40\n",
            "363/363 [==============================] - 1s 3ms/step - loss: 0.4577 - mae: 0.4869 - val_loss: 0.4345 - val_mae: 0.4701\n",
            "Epoch 12/40\n",
            "363/363 [==============================] - 1s 3ms/step - loss: 0.4498 - mae: 0.4826 - val_loss: 0.4168 - val_mae: 0.4632\n",
            "Epoch 13/40\n",
            "363/363 [==============================] - 1s 3ms/step - loss: 0.4428 - mae: 0.4793 - val_loss: 0.4230 - val_mae: 0.4630\n",
            "Epoch 14/40\n",
            "363/363 [==============================] - 1s 3ms/step - loss: 0.4366 - mae: 0.4754 - val_loss: 0.4047 - val_mae: 0.4581\n",
            "Epoch 15/40\n",
            "363/363 [==============================] - 1s 3ms/step - loss: 0.4307 - mae: 0.4723 - val_loss: 0.4078 - val_mae: 0.4556\n",
            "Epoch 16/40\n",
            "363/363 [==============================] - 1s 3ms/step - loss: 0.4257 - mae: 0.4694 - val_loss: 0.3938 - val_mae: 0.4507\n",
            "Epoch 17/40\n",
            "363/363 [==============================] - 1s 3ms/step - loss: 0.4210 - mae: 0.4662 - val_loss: 0.3952 - val_mae: 0.4480\n",
            "Epoch 18/40\n",
            "363/363 [==============================] - 1s 3ms/step - loss: 0.4167 - mae: 0.4637 - val_loss: 0.3860 - val_mae: 0.4435\n",
            "Epoch 19/40\n",
            "363/363 [==============================] - 1s 3ms/step - loss: 0.4121 - mae: 0.4606 - val_loss: 0.3827 - val_mae: 0.4422\n",
            "Epoch 20/40\n",
            "363/363 [==============================] - 1s 3ms/step - loss: 0.4088 - mae: 0.4587 - val_loss: 0.4054 - val_mae: 0.4450\n",
            "Epoch 21/40\n",
            "363/363 [==============================] - 1s 3ms/step - loss: 0.4054 - mae: 0.4563 - val_loss: 0.3770 - val_mae: 0.4405\n",
            "Epoch 22/40\n",
            "363/363 [==============================] - 1s 3ms/step - loss: 0.4022 - mae: 0.4544 - val_loss: 0.3857 - val_mae: 0.4410\n",
            "Epoch 23/40\n",
            "363/363 [==============================] - 1s 3ms/step - loss: 0.3992 - mae: 0.4527 - val_loss: 0.3787 - val_mae: 0.4339\n",
            "Epoch 24/40\n",
            "363/363 [==============================] - 1s 3ms/step - loss: 0.3965 - mae: 0.4500 - val_loss: 0.3729 - val_mae: 0.4328\n",
            "Epoch 25/40\n",
            "363/363 [==============================] - 1s 3ms/step - loss: 0.3938 - mae: 0.4487 - val_loss: 0.3771 - val_mae: 0.4335\n",
            "Epoch 26/40\n",
            "363/363 [==============================] - 1s 3ms/step - loss: 0.3917 - mae: 0.4468 - val_loss: 0.3671 - val_mae: 0.4305\n",
            "Epoch 27/40\n",
            "363/363 [==============================] - 1s 3ms/step - loss: 0.3895 - mae: 0.4455 - val_loss: 0.3695 - val_mae: 0.4305\n",
            "Epoch 28/40\n",
            "363/363 [==============================] - 1s 3ms/step - loss: 0.3873 - mae: 0.4436 - val_loss: 0.3660 - val_mae: 0.4311\n",
            "Epoch 29/40\n",
            "363/363 [==============================] - 1s 3ms/step - loss: 0.3854 - mae: 0.4422 - val_loss: 0.3596 - val_mae: 0.4280\n",
            "Epoch 30/40\n",
            "363/363 [==============================] - 1s 3ms/step - loss: 0.3833 - mae: 0.4409 - val_loss: 0.3728 - val_mae: 0.4279\n",
            "Epoch 31/40\n",
            "363/363 [==============================] - 1s 3ms/step - loss: 0.3813 - mae: 0.4392 - val_loss: 0.3611 - val_mae: 0.4259\n",
            "Epoch 32/40\n",
            "363/363 [==============================] - 1s 3ms/step - loss: 0.3793 - mae: 0.4380 - val_loss: 0.3784 - val_mae: 0.4305\n",
            "Epoch 33/40\n",
            "363/363 [==============================] - 1s 3ms/step - loss: 0.3783 - mae: 0.4374 - val_loss: 0.3643 - val_mae: 0.4259\n",
            "Epoch 34/40\n",
            "363/363 [==============================] - 1s 3ms/step - loss: 0.3761 - mae: 0.4359 - val_loss: 0.3534 - val_mae: 0.4236\n",
            "Epoch 35/40\n",
            "363/363 [==============================] - 1s 3ms/step - loss: 0.3746 - mae: 0.4345 - val_loss: 0.3674 - val_mae: 0.4266\n",
            "Epoch 36/40\n",
            "363/363 [==============================] - 1s 3ms/step - loss: 0.3732 - mae: 0.4338 - val_loss: 0.3811 - val_mae: 0.4231\n",
            "Epoch 37/40\n",
            "363/363 [==============================] - 1s 3ms/step - loss: 0.3717 - mae: 0.4322 - val_loss: 0.3554 - val_mae: 0.4226\n",
            "Epoch 38/40\n",
            "363/363 [==============================] - 1s 3ms/step - loss: 0.3703 - mae: 0.4315 - val_loss: 0.3583 - val_mae: 0.4215\n",
            "Epoch 39/40\n",
            "363/363 [==============================] - 1s 3ms/step - loss: 0.3689 - mae: 0.4306 - val_loss: 0.3470 - val_mae: 0.4181\n",
            "Epoch 40/40\n",
            "363/363 [==============================] - 1s 3ms/step - loss: 0.3676 - mae: 0.4296 - val_loss: 0.3450 - val_mae: 0.4162\n"
          ]
        }
      ]
    },
    {
      "cell_type": "code",
      "source": [
        "mae_test = model.evaluate(X_test,y_test)"
      ],
      "metadata": {
        "colab": {
          "base_uri": "https://localhost:8080/"
        },
        "id": "WCYi_J2EtE--",
        "outputId": "9376b4fe-b1a4-43b5-f225-6145afa19d39"
      },
      "execution_count": null,
      "outputs": [
        {
          "output_type": "stream",
          "name": "stdout",
          "text": [
            "162/162 [==============================] - 0s 2ms/step - loss: 0.3663 - mae: 0.4284\n"
          ]
        }
      ]
    },
    {
      "cell_type": "code",
      "source": [
        "model_history.history"
      ],
      "metadata": {
        "colab": {
          "base_uri": "https://localhost:8080/"
        },
        "id": "5AFVoXLftEv8",
        "outputId": "11dcb2e4-eaae-44cc-dc51-7f916c5ab283"
      },
      "execution_count": null,
      "outputs": [
        {
          "output_type": "execute_result",
          "data": {
            "text/plain": [
              "{'loss': [1.2611349821090698,\n",
              "  0.6580147743225098,\n",
              "  0.5878488421440125,\n",
              "  0.5582206845283508,\n",
              "  0.5347447395324707,\n",
              "  0.5158383846282959,\n",
              "  0.5001886487007141,\n",
              "  0.487630158662796,\n",
              "  0.47597867250442505,\n",
              "  0.46589067578315735,\n",
              "  0.4576523005962372,\n",
              "  0.4497882127761841,\n",
              "  0.4427882134914398,\n",
              "  0.43657398223876953,\n",
              "  0.4307057857513428,\n",
              "  0.4256792962551117,\n",
              "  0.42097699642181396,\n",
              "  0.4166797399520874,\n",
              "  0.41208982467651367,\n",
              "  0.40877121686935425,\n",
              "  0.4053786098957062,\n",
              "  0.4021816551685333,\n",
              "  0.39922139048576355,\n",
              "  0.39651334285736084,\n",
              "  0.3938170075416565,\n",
              "  0.3916561007499695,\n",
              "  0.3894905149936676,\n",
              "  0.3873196244239807,\n",
              "  0.3853735625743866,\n",
              "  0.38328883051872253,\n",
              "  0.38131439685821533,\n",
              "  0.37933582067489624,\n",
              "  0.37825414538383484,\n",
              "  0.37610748410224915,\n",
              "  0.37457695603370667,\n",
              "  0.3731561303138733,\n",
              "  0.37173378467559814,\n",
              "  0.3703078031539917,\n",
              "  0.36885833740234375,\n",
              "  0.3675592839717865],\n",
              " 'mae': [0.7852439880371094,\n",
              "  0.5811692476272583,\n",
              "  0.5550118684768677,\n",
              "  0.5404617190361023,\n",
              "  0.5273921489715576,\n",
              "  0.5182088017463684,\n",
              "  0.5097267031669617,\n",
              "  0.5028261542320251,\n",
              "  0.49702098965644836,\n",
              "  0.4920451045036316,\n",
              "  0.48688802123069763,\n",
              "  0.4825677275657654,\n",
              "  0.47925591468811035,\n",
              "  0.4754045009613037,\n",
              "  0.47231701016426086,\n",
              "  0.4694119393825531,\n",
              "  0.4662294089794159,\n",
              "  0.46371427178382874,\n",
              "  0.460562527179718,\n",
              "  0.45867958664894104,\n",
              "  0.4563489258289337,\n",
              "  0.45435360074043274,\n",
              "  0.45273610949516296,\n",
              "  0.4499698877334595,\n",
              "  0.4486963152885437,\n",
              "  0.4468258023262024,\n",
              "  0.4454985558986664,\n",
              "  0.44356074929237366,\n",
              "  0.4422193467617035,\n",
              "  0.44088050723075867,\n",
              "  0.43922749161720276,\n",
              "  0.4380453824996948,\n",
              "  0.4374246299266815,\n",
              "  0.4358599781990051,\n",
              "  0.4345003366470337,\n",
              "  0.4338083565235138,\n",
              "  0.4321504831314087,\n",
              "  0.4315371513366699,\n",
              "  0.430630624294281,\n",
              "  0.4296225607395172],\n",
              " 'val_loss': [3.3939762115478516,\n",
              "  0.9359971880912781,\n",
              "  0.5649250149726868,\n",
              "  0.5712422132492065,\n",
              "  0.5045129060745239,\n",
              "  0.4831326901912689,\n",
              "  0.4639434516429901,\n",
              "  0.463764488697052,\n",
              "  0.4421127140522003,\n",
              "  0.43128734827041626,\n",
              "  0.43454405665397644,\n",
              "  0.4167725741863251,\n",
              "  0.42299583554267883,\n",
              "  0.40473389625549316,\n",
              "  0.40781170129776,\n",
              "  0.3938194811344147,\n",
              "  0.39518654346466064,\n",
              "  0.3860085606575012,\n",
              "  0.3826524615287781,\n",
              "  0.40535712242126465,\n",
              "  0.3770366311073303,\n",
              "  0.38565611839294434,\n",
              "  0.3787134289741516,\n",
              "  0.37286096811294556,\n",
              "  0.3771393299102783,\n",
              "  0.36714115738868713,\n",
              "  0.3695441484451294,\n",
              "  0.3660213053226471,\n",
              "  0.3596436083316803,\n",
              "  0.37282004952430725,\n",
              "  0.361081600189209,\n",
              "  0.3784356415271759,\n",
              "  0.36434370279312134,\n",
              "  0.35340985655784607,\n",
              "  0.3673994541168213,\n",
              "  0.3811222314834595,\n",
              "  0.35535216331481934,\n",
              "  0.3583375811576843,\n",
              "  0.3469530940055847,\n",
              "  0.34504905343055725],\n",
              " 'val_mae': [0.6265513896942139,\n",
              "  0.5652498602867126,\n",
              "  0.5327962636947632,\n",
              "  0.5239311456680298,\n",
              "  0.5068221688270569,\n",
              "  0.49658095836639404,\n",
              "  0.48904508352279663,\n",
              "  0.48331892490386963,\n",
              "  0.47642359137535095,\n",
              "  0.47065305709838867,\n",
              "  0.470100998878479,\n",
              "  0.4632132351398468,\n",
              "  0.4629872441291809,\n",
              "  0.45814886689186096,\n",
              "  0.4555680751800537,\n",
              "  0.4507128596305847,\n",
              "  0.4479767382144928,\n",
              "  0.443502813577652,\n",
              "  0.44218435883522034,\n",
              "  0.4449733793735504,\n",
              "  0.44054415822029114,\n",
              "  0.440966933965683,\n",
              "  0.4339437782764435,\n",
              "  0.4327778220176697,\n",
              "  0.43346112966537476,\n",
              "  0.4305140972137451,\n",
              "  0.43047183752059937,\n",
              "  0.4311242401599884,\n",
              "  0.42803099751472473,\n",
              "  0.4279477894306183,\n",
              "  0.42585206031799316,\n",
              "  0.4305003881454468,\n",
              "  0.4258732199668884,\n",
              "  0.4236159920692444,\n",
              "  0.426598459482193,\n",
              "  0.42309102416038513,\n",
              "  0.4225648045539856,\n",
              "  0.42150187492370605,\n",
              "  0.41814547777175903,\n",
              "  0.41616618633270264]}"
            ]
          },
          "metadata": {},
          "execution_count": 12
        }
      ]
    },
    {
      "cell_type": "code",
      "source": [
        "pd.DataFrame(model_history.history).plot(figsize =(8,5))\n",
        "plt.grid(True)\n",
        "plt.gca().set_ylim(0,1)\n",
        "plt.show()"
      ],
      "metadata": {
        "colab": {
          "base_uri": "https://localhost:8080/",
          "height": 324
        },
        "id": "6UBD0U3AvFcF",
        "outputId": "e4db803c-b889-40cd-a264-5e64b6f60f81"
      },
      "execution_count": null,
      "outputs": [
        {
          "output_type": "display_data",
          "data": {
            "text/plain": [
              "<Figure size 576x360 with 1 Axes>"
            ],
            "image/png": "[encoded data removed]"
          },
          "metadata": {
            "needs_background": "light"
          }
        }
      ]
    },
    {
      "cell_type": "code",
      "source": [
        "X_new = X_test"
      ],
      "metadata": {
        "id": "3Ls5f8aPzTZZ"
      },
      "execution_count": null,
      "outputs": []
    },
    {
      "cell_type": "code",
      "source": [
        ""
      ],
      "metadata": {
        "id": "LnIUJI1SzYWl"
      },
      "execution_count": null,
      "outputs": []
    },
    {
      "cell_type": "code",
      "source": [
        "model.save(\"my_func_models.h5\")"
      ],
      "metadata": {
        "id": "gW-LFdjDvwfV"
      },
      "execution_count": null,
      "outputs": []
    },
    {
      "cell_type": "code",
      "source": [
        "%pwd"
      ],
      "metadata": {
        "colab": {
          "base_uri": "https://localhost:8080/",
          "height": 36
        },
        "id": "G_ASmuRByD9g",
        "outputId": "324ab9f6-7a04-497d-e291-295dd1ba689f"
      },
      "execution_count": null,
      "outputs": [
        {
          "output_type": "execute_result",
          "data": {
            "text/plain": [
              "'/content'"
            ],
            "application/vnd.google.colaboratory.intrinsic+json": {
              "type": "string"
            }
          },
          "metadata": {},
          "execution_count": 16
        }
      ]
    },
    {
      "cell_type": "code",
      "source": [
        "del model"
      ],
      "metadata": {
        "id": "3ej_B-uGyIk4"
      },
      "execution_count": null,
      "outputs": []
    },
    {
      "cell_type": "code",
      "source": [
        "keras.backend.clear_session()"
      ],
      "metadata": {
        "id": "N5u8Sg88yTD0"
      },
      "execution_count": null,
      "outputs": []
    },
    {
      "cell_type": "code",
      "source": [
        "import tensorflow as tf\n",
        "from tensorflow import keras"
      ],
      "metadata": {
        "id": "AhZI0TE-yqiq"
      },
      "execution_count": null,
      "outputs": []
    },
    {
      "cell_type": "code",
      "source": [
        "model = keras.models.load_model(\"my_func_models.h5\")"
      ],
      "metadata": {
        "id": "aS_fVu67yYvr"
      },
      "execution_count": null,
      "outputs": []
    },
    {
      "cell_type": "code",
      "source": [
        "model.summary()"
      ],
      "metadata": {
        "colab": {
          "base_uri": "https://localhost:8080/"
        },
        "id": "w7Ap6-P4yjzM",
        "outputId": "b4e49b0b-b8ba-4dfb-d3c5-930d529dd43e"
      },
      "execution_count": null,
      "outputs": [
        {
          "output_type": "stream",
          "name": "stdout",
          "text": [
            "Model: \"model\"\n",
            "__________________________________________________________________________________________________\n",
            " Layer (type)                   Output Shape         Param #     Connected to                     \n",
            "==================================================================================================\n",
            " input_1 (InputLayer)           [(None, 8)]          0           []                               \n",
            "                                                                                                  \n",
            " dense (Dense)                  (None, 30)           270         ['input_1[0][0]']                \n",
            "                                                                                                  \n",
            " dense_1 (Dense)                (None, 30)           930         ['dense[0][0]']                  \n",
            "                                                                                                  \n",
            " concatenate (Concatenate)      (None, 38)           0           ['input_1[0][0]',                \n",
            "                                                                  'dense_1[0][0]']                \n",
            "                                                                                                  \n",
            " dense_2 (Dense)                (None, 1)            39          ['concatenate[0][0]']            \n",
            "                                                                                                  \n",
            "==================================================================================================\n",
            "Total params: 1,239\n",
            "Trainable params: 1,239\n",
            "Non-trainable params: 0\n",
            "__________________________________________________________________________________________________\n"
          ]
        }
      ]
    },
    {
      "cell_type": "code",
      "source": [
        "y_pred = model.predict(X_new)\n",
        "print(y_pred)"
      ],
      "metadata": {
        "colab": {
          "base_uri": "https://localhost:8080/"
        },
        "id": "DBXRyS8Dy8NX",
        "outputId": "b8f74202-c80a-4b15-84d9-e6f6df6e0bb6"
      },
      "execution_count": null,
      "outputs": [
        {
          "output_type": "stream",
          "name": "stdout",
          "text": [
            "[[0.5761529]\n",
            " [1.9312994]\n",
            " [3.7248137]\n",
            " ...\n",
            " [1.423923 ]\n",
            " [2.3273277]\n",
            " [3.9390357]]\n"
          ]
        }
      ]
    },
    {
      "cell_type": "markdown",
      "source": [
        "USING CALLBACKS during training"
      ],
      "metadata": {
        "id": "yhr5rI_6zjMY"
      }
    },
    {
      "cell_type": "code",
      "source": [
        "keras.backend.clear_session()\n",
        "np.random.seed(42)\n",
        "tf.random.set_seed(42)"
      ],
      "metadata": {
        "id": "BEpP-sgXzpBj"
      },
      "execution_count": null,
      "outputs": []
    },
    {
      "cell_type": "code",
      "source": [
        "model = keras.models.Sequential([\n",
        "keras.layers.Dense(30,activation ='relu',input_shape =[8]),\n",
        "keras.layers.Dense(30,activation ='relu'),\n",
        "keras.layers.Dense(1)\n",
        "])"
      ],
      "metadata": {
        "id": "JUNTYelZz_Kt"
      },
      "execution_count": null,
      "outputs": []
    },
    {
      "cell_type": "code",
      "source": [
        "model.compile(loss =\"mse\",optimizer =keras.optimizers.SGD(lr =1e-3))"
      ],
      "metadata": {
        "colab": {
          "base_uri": "https://localhost:8080/"
        },
        "id": "Z9pi8yq20X2o",
        "outputId": "c3e9404b-2cf6-4d90-875a-81ad900f78dd"
      },
      "execution_count": null,
      "outputs": [
        {
          "output_type": "stream",
          "name": "stderr",
          "text": [
            "/usr/local/lib/python3.7/dist-packages/keras/optimizer_v2/gradient_descent.py:102: UserWarning: The `lr` argument is deprecated, use `learning_rate` instead.\n",
            "  super(SGD, self).__init__(name, **kwargs)\n"
          ]
        }
      ]
    },
    {
      "cell_type": "code",
      "source": [
        "checkpoint_cb = keras.callbacks.ModelCheckpoint(\"Model-(epoch:02d).h5\")"
      ],
      "metadata": {
        "id": "M_ntdGcq0jsZ"
      },
      "execution_count": null,
      "outputs": []
    },
    {
      "cell_type": "code",
      "source": [
        "history = model.fit(X_train,y_train,epochs =10,validation_data =(X_valid,y_valid),callbacks = [checkpoint_cb])"
      ],
      "metadata": {
        "colab": {
          "base_uri": "https://localhost:8080/"
        },
        "id": "KBP8P4di05x0",
        "outputId": "f0376f55-f2f3-4f0c-ed6d-f1373b622cb8"
      },
      "execution_count": null,
      "outputs": [
        {
          "output_type": "stream",
          "name": "stdout",
          "text": [
            "Epoch 1/10\n",
            "363/363 [==============================] - 1s 3ms/step - loss: 1.8866 - val_loss: 0.7126\n",
            "Epoch 2/10\n",
            "363/363 [==============================] - 1s 3ms/step - loss: 0.6577 - val_loss: 0.6880\n",
            "Epoch 3/10\n",
            "363/363 [==============================] - 1s 3ms/step - loss: 0.5934 - val_loss: 0.5803\n",
            "Epoch 4/10\n",
            "363/363 [==============================] - 1s 3ms/step - loss: 0.5557 - val_loss: 0.5166\n",
            "Epoch 5/10\n",
            "363/363 [==============================] - 1s 3ms/step - loss: 0.5272 - val_loss: 0.4895\n",
            "Epoch 6/10\n",
            "363/363 [==============================] - 1s 3ms/step - loss: 0.5033 - val_loss: 0.4951\n",
            "Epoch 7/10\n",
            "363/363 [==============================] - 1s 3ms/step - loss: 0.4854 - val_loss: 0.4861\n",
            "Epoch 8/10\n",
            "363/363 [==============================] - 1s 3ms/step - loss: 0.4709 - val_loss: 0.4554\n",
            "Epoch 9/10\n",
            "363/363 [==============================] - 1s 3ms/step - loss: 0.4578 - val_loss: 0.4413\n",
            "Epoch 10/10\n",
            "363/363 [==============================] - 1s 3ms/step - loss: 0.4474 - val_loss: 0.4379\n"
          ]
        }
      ]
    },
    {
      "cell_type": "code",
      "source": [
        "del model\n",
        "keras.backend.clear_session()"
      ],
      "metadata": {
        "id": "J_Zj4GGY1LzX"
      },
      "execution_count": null,
      "outputs": []
    },
    {
      "cell_type": "code",
      "source": [
        "model = keras.models.load_model(\"my_func_models.h5\")"
      ],
      "metadata": {
        "id": "WzwbSqy11Z5o"
      },
      "execution_count": null,
      "outputs": []
    },
    {
      "cell_type": "code",
      "source": [
        "mse_test = model.evaluate(X_test,y_test)"
      ],
      "metadata": {
        "colab": {
          "base_uri": "https://localhost:8080/"
        },
        "id": "vhMuEeXP1hYl",
        "outputId": "79d02987-c6ef-4b18-ae64-989d2e729e12"
      },
      "execution_count": null,
      "outputs": [
        {
          "output_type": "stream",
          "name": "stdout",
          "text": [
            "162/162 [==============================] - 0s 2ms/step - loss: 0.3663 - mae: 0.4284\n"
          ]
        }
      ]
    },
    {
      "cell_type": "markdown",
      "source": [
        "BEST MODEL ONLY"
      ],
      "metadata": {
        "id": "Mk7ynApw2igi"
      }
    },
    {
      "cell_type": "code",
      "source": [
        "del model\n",
        "keras.backend.clear_session()"
      ],
      "metadata": {
        "id": "xzNYbp9l1pTj"
      },
      "execution_count": null,
      "outputs": []
    },
    {
      "cell_type": "code",
      "source": [
        "model = keras.models.Sequential([\n",
        "keras.layers.Dense(30,activation ='relu',input_shape =[8]),\n",
        "keras.layers.Dense(30,activation ='relu'),\n",
        "keras.layers.Dense(1)\n",
        "])"
      ],
      "metadata": {
        "id": "HCkXngj32wwt"
      },
      "execution_count": null,
      "outputs": []
    },
    {
      "cell_type": "code",
      "source": [
        "model.compile(loss =\"mse\",optimizer =keras.optimizers.SGD(lr =1e-3))"
      ],
      "metadata": {
        "colab": {
          "base_uri": "https://localhost:8080/"
        },
        "id": "Ns7vwkc-2zvi",
        "outputId": "dc3d7f61-f5c2-41ba-ecb3-48b1cbfa5fe7"
      },
      "execution_count": null,
      "outputs": [
        {
          "output_type": "stream",
          "name": "stderr",
          "text": [
            "/usr/local/lib/python3.7/dist-packages/keras/optimizer_v2/gradient_descent.py:102: UserWarning: The `lr` argument is deprecated, use `learning_rate` instead.\n",
            "  super(SGD, self).__init__(name, **kwargs)\n"
          ]
        }
      ]
    },
    {
      "cell_type": "code",
      "source": [
        "checkpoint_cb = keras.callbacks.ModelCheckpoint(\"Best_Model.h5\",save_best_only=True)"
      ],
      "metadata": {
        "id": "4Q1IW_Ql23-5"
      },
      "execution_count": null,
      "outputs": []
    },
    {
      "cell_type": "code",
      "source": [
        "history = model.fit(X_train,y_train,epochs =10,validation_data =(X_valid,y_valid),callbacks = [checkpoint_cb])"
      ],
      "metadata": {
        "colab": {
          "base_uri": "https://localhost:8080/"
        },
        "id": "2eIMnu1t2_WH",
        "outputId": "411a1d8c-6064-4e1b-812b-ffb80e6dd183"
      },
      "execution_count": null,
      "outputs": [
        {
          "output_type": "stream",
          "name": "stdout",
          "text": [
            "Epoch 1/10\n",
            "363/363 [==============================] - 1s 3ms/step - loss: 0.4310 - val_loss: 0.3991\n",
            "Epoch 2/10\n",
            "363/363 [==============================] - 1s 3ms/step - loss: 0.4226 - val_loss: 0.4006\n",
            "Epoch 3/10\n",
            "363/363 [==============================] - 1s 3ms/step - loss: 0.4154 - val_loss: 0.3860\n",
            "Epoch 4/10\n",
            "363/363 [==============================] - 1s 3ms/step - loss: 0.4095 - val_loss: 0.3757\n",
            "Epoch 5/10\n",
            "363/363 [==============================] - 1s 3ms/step - loss: 0.4046 - val_loss: 0.3710\n",
            "Epoch 6/10\n",
            "363/363 [==============================] - 1s 3ms/step - loss: 0.3999 - val_loss: 0.3889\n",
            "Epoch 7/10\n",
            "363/363 [==============================] - 1s 3ms/step - loss: 0.3970 - val_loss: 0.3694\n",
            "Epoch 8/10\n",
            "363/363 [==============================] - 1s 3ms/step - loss: 0.3936 - val_loss: 0.3638\n",
            "Epoch 9/10\n",
            "363/363 [==============================] - 1s 3ms/step - loss: 0.3908 - val_loss: 0.3687\n",
            "Epoch 10/10\n",
            "363/363 [==============================] - 1s 3ms/step - loss: 0.3883 - val_loss: 0.3901\n"
          ]
        }
      ]
    },
    {
      "cell_type": "code",
      "source": [
        "model =keras.models.load_model(\"Best_Model.h5\")  #rollback to best model\n",
        "#mse_test = model_evaluate(X_test,y_test)\n"
      ],
      "metadata": {
        "id": "NOgVw6-N3Mn7"
      },
      "execution_count": null,
      "outputs": []
    },
    {
      "cell_type": "code",
      "source": [
        ""
      ],
      "metadata": {
        "id": "VwM3ZLb44KzA"
      },
      "execution_count": null,
      "outputs": []
    },
    {
      "cell_type": "markdown",
      "source": [
        "Saving and Restoring"
      ],
      "metadata": {
        "id": "U7_oHA246vVO"
      }
    },
    {
      "cell_type": "code",
      "source": [
        "model.save(\"my_func_models.h5\")"
      ],
      "metadata": {
        "id": "80GNARY16zIr"
      },
      "execution_count": null,
      "outputs": []
    },
    {
      "cell_type": "code",
      "source": [
        "%pwd #present working directory"
      ],
      "metadata": {
        "colab": {
          "base_uri": "https://localhost:8080/",
          "height": 36
        },
        "id": "49dPnyNY65MK",
        "outputId": "95951d2e-dc6a-479b-a055-3a8777558f8b"
      },
      "execution_count": null,
      "outputs": [
        {
          "output_type": "execute_result",
          "data": {
            "text/plain": [
              "'/content'"
            ],
            "application/vnd.google.colaboratory.intrinsic+json": {
              "type": "string"
            }
          },
          "metadata": {},
          "execution_count": 50
        }
      ]
    },
    {
      "cell_type": "code",
      "source": [
        "del model"
      ],
      "metadata": {
        "id": "aHVCQ9Uf6-rm"
      },
      "execution_count": null,
      "outputs": []
    },
    {
      "cell_type": "code",
      "source": [
        "keras.backend.clear_session()"
      ],
      "metadata": {
        "id": "z9acDGQJ7J_h"
      },
      "execution_count": null,
      "outputs": []
    },
    {
      "cell_type": "code",
      "source": [
        "model = keras.models.load_model(\"my_func_models.h5\")"
      ],
      "metadata": {
        "id": "Rbfy5A_b7OYG"
      },
      "execution_count": null,
      "outputs": []
    },
    {
      "cell_type": "code",
      "source": [
        "model.summary()"
      ],
      "metadata": {
        "colab": {
          "base_uri": "https://localhost:8080/"
        },
        "id": "_qtjicKd7YXd",
        "outputId": "92dcc2e7-fa9a-46fc-887a-bb3edcfd568b"
      },
      "execution_count": null,
      "outputs": [
        {
          "output_type": "stream",
          "name": "stdout",
          "text": [
            "Model: \"sequential\"\n",
            "_________________________________________________________________\n",
            " Layer (type)                Output Shape              Param #   \n",
            "=================================================================\n",
            " dense (Dense)               (None, 30)                270       \n",
            "                                                                 \n",
            " dense_1 (Dense)             (None, 30)                930       \n",
            "                                                                 \n",
            " dense_2 (Dense)             (None, 1)                 31        \n",
            "                                                                 \n",
            "=================================================================\n",
            "Total params: 1,231\n",
            "Trainable params: 1,231\n",
            "Non-trainable params: 0\n",
            "_________________________________________________________________\n"
          ]
        }
      ]
    },
    {
      "cell_type": "code",
      "source": [
        "y_pred =model.predict(X_new)\n",
        "print(y_pred)"
      ],
      "metadata": {
        "colab": {
          "base_uri": "https://localhost:8080/"
        },
        "id": "LjMI18Ht7aJ6",
        "outputId": "e6468665-6200-4a56-b411-f461c7788aed"
      },
      "execution_count": null,
      "outputs": [
        {
          "output_type": "stream",
          "name": "stdout",
          "text": [
            "[[0.7189994]\n",
            " [1.8388281]\n",
            " [3.68825  ]\n",
            " ...\n",
            " [1.3600099]\n",
            " [2.5193362]\n",
            " [3.9213362]]\n"
          ]
        }
      ]
    },
    {
      "cell_type": "markdown",
      "source": [
        "BEST MODEL ONLY"
      ],
      "metadata": {
        "id": "yIKCGN8n9C81"
      }
    },
    {
      "cell_type": "code",
      "source": [
        "del model\n",
        "keras.backend.clear_session()"
      ],
      "metadata": {
        "id": "BrEpduYN9Fgk"
      },
      "execution_count": null,
      "outputs": []
    },
    {
      "cell_type": "code",
      "source": [
        "model = keras.models.Sequential([\n",
        "keras.layers.Dense(30,activation ='relu',input_shape =[8]),\n",
        "keras.layers.Dense(30,activation ='relu'),\n",
        "keras.layers.Dense(1)\n",
        "])"
      ],
      "metadata": {
        "id": "AhNW93Oz9J78"
      },
      "execution_count": null,
      "outputs": []
    },
    {
      "cell_type": "code",
      "source": [
        "model.compile(loss =\"mse\",optimizer =keras.optimizers.SGD(lr =1e-3))"
      ],
      "metadata": {
        "colab": {
          "base_uri": "https://localhost:8080/"
        },
        "id": "0oDFNZ0p-fJ4",
        "outputId": "38f3a12d-8925-45aa-eac7-56e15a19a54d"
      },
      "execution_count": null,
      "outputs": [
        {
          "output_type": "stream",
          "name": "stderr",
          "text": [
            "/usr/local/lib/python3.7/dist-packages/keras/optimizer_v2/gradient_descent.py:102: UserWarning: The `lr` argument is deprecated, use `learning_rate` instead.\n",
            "  super(SGD, self).__init__(name, **kwargs)\n"
          ]
        }
      ]
    },
    {
      "cell_type": "code",
      "source": [
        "checkpoint_cb = keras.callbacks.ModelCheckpoint(\"early_stop_model.h5\",save_best_only=True)"
      ],
      "metadata": {
        "id": "doFha5Xu9Q7-"
      },
      "execution_count": null,
      "outputs": []
    },
    {
      "cell_type": "code",
      "source": [
        "#patience : Number of epochs with no improvement after training will be stopped\n",
        "early_stopping_cd = keras.callbacks.EarlyStopping(patience =10,restore_best_weights=True)"
      ],
      "metadata": {
        "id": "Mn0Qy7gv9blc"
      },
      "execution_count": null,
      "outputs": []
    },
    {
      "cell_type": "code",
      "source": [
        "history = model.fit(X_train,y_train ,epochs =200,validation_data =(X_valid,y_valid),callbacks = [checkpoint_cb,early_stopping_cd])"
      ],
      "metadata": {
        "colab": {
          "base_uri": "https://localhost:8080/"
        },
        "id": "iRFDkFW993l3",
        "outputId": "6401aad0-8f78-4628-8007-b43f22f33b9a"
      },
      "execution_count": null,
      "outputs": [
        {
          "output_type": "stream",
          "name": "stdout",
          "text": [
            "Epoch 1/200\n",
            "363/363 [==============================] - 1s 3ms/step - loss: 0.3057 - val_loss: 0.2981\n",
            "Epoch 2/200\n",
            "363/363 [==============================] - 1s 3ms/step - loss: 0.3056 - val_loss: 0.3853\n",
            "Epoch 3/200\n",
            "363/363 [==============================] - 1s 3ms/step - loss: 0.3058 - val_loss: 0.2939\n",
            "Epoch 4/200\n",
            "363/363 [==============================] - 1s 3ms/step - loss: 0.3054 - val_loss: 0.3708\n",
            "Epoch 5/200\n",
            "363/363 [==============================] - 1s 3ms/step - loss: 0.3055 - val_loss: 0.2965\n",
            "Epoch 6/200\n",
            "363/363 [==============================] - 1s 3ms/step - loss: 0.3051 - val_loss: 0.3402\n",
            "Epoch 7/200\n",
            "363/363 [==============================] - 1s 3ms/step - loss: 0.3051 - val_loss: 0.2937\n",
            "Epoch 8/200\n",
            "363/363 [==============================] - 1s 3ms/step - loss: 0.3051 - val_loss: 0.3815\n",
            "Epoch 9/200\n",
            "363/363 [==============================] - 1s 3ms/step - loss: 0.3047 - val_loss: 0.2962\n",
            "Epoch 10/200\n",
            "363/363 [==============================] - 1s 3ms/step - loss: 0.3045 - val_loss: 0.3435\n",
            "Epoch 11/200\n",
            "363/363 [==============================] - 1s 3ms/step - loss: 0.3044 - val_loss: 0.2945\n",
            "Epoch 12/200\n",
            "363/363 [==============================] - 1s 3ms/step - loss: 0.3045 - val_loss: 0.3856\n",
            "Epoch 13/200\n",
            "363/363 [==============================] - 1s 3ms/step - loss: 0.3043 - val_loss: 0.2950\n",
            "Epoch 14/200\n",
            "363/363 [==============================] - 1s 3ms/step - loss: 0.3041 - val_loss: 0.3562\n",
            "Epoch 15/200\n",
            "363/363 [==============================] - 1s 3ms/step - loss: 0.3039 - val_loss: 0.2933\n",
            "Epoch 16/200\n",
            "363/363 [==============================] - 1s 3ms/step - loss: 0.3038 - val_loss: 0.3199\n",
            "Epoch 17/200\n",
            "363/363 [==============================] - 1s 3ms/step - loss: 0.3034 - val_loss: 0.3114\n",
            "Epoch 18/200\n",
            "363/363 [==============================] - 1s 4ms/step - loss: 0.3036 - val_loss: 0.3373\n",
            "Epoch 19/200\n",
            "363/363 [==============================] - 2s 4ms/step - loss: 0.3034 - val_loss: 0.3042\n",
            "Epoch 20/200\n",
            "363/363 [==============================] - 2s 4ms/step - loss: 0.3033 - val_loss: 0.3429\n",
            "Epoch 21/200\n",
            "363/363 [==============================] - 2s 4ms/step - loss: 0.3029 - val_loss: 0.3086\n",
            "Epoch 22/200\n",
            "363/363 [==============================] - 2s 4ms/step - loss: 0.3030 - val_loss: 0.3667\n",
            "Epoch 23/200\n",
            "363/363 [==============================] - 2s 5ms/step - loss: 0.3028 - val_loss: 0.2985\n",
            "Epoch 24/200\n",
            "363/363 [==============================] - 1s 4ms/step - loss: 0.3030 - val_loss: 0.3989\n",
            "Epoch 25/200\n",
            "363/363 [==============================] - 2s 4ms/step - loss: 0.3029 - val_loss: 0.2935\n"
          ]
        }
      ]
    },
    {
      "cell_type": "code",
      "source": [
        "model = keras.models.load_model(\"early_stop_model.h5\")\n",
        "mse_test = model.evaluate(X_test,y_test)"
      ],
      "metadata": {
        "colab": {
          "base_uri": "https://localhost:8080/"
        },
        "id": "2Dozr6vW-DFj",
        "outputId": "ffb2de1e-5a14-4bd1-f64b-fcc74470302b"
      },
      "execution_count": null,
      "outputs": [
        {
          "output_type": "stream",
          "name": "stdout",
          "text": [
            "162/162 [==============================] - 1s 3ms/step - loss: 0.3132\n"
          ]
        }
      ]
    },
    {
      "cell_type": "code",
      "source": [
        ""
      ],
      "metadata": {
        "id": "SH8q_gB_ARtA"
      },
      "execution_count": null,
      "outputs": []
    }
  ]
}