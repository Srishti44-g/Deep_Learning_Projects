{
  "nbformat": 4,
  "nbformat_minor": 0,
  "metadata": {
    "colab": {
      "name": "Movie_Collection_Prediction.ipynb",
      "provenance": []
    },
    "kernelspec": {
      "name": "python3",
      "display_name": "Python 3"
    },
    "language_info": {
      "name": "python"
    }
  },
  "cells": [
    {
      "cell_type": "code",
      "execution_count": null,
      "metadata": {
        "id": "Ni2YfmvmDBp0"
      },
      "outputs": [],
      "source": [
        "import numpy as np\n",
        "import pandas as pd\n",
        "%matplotlib inline\n",
        "import matplotlib as mpl\n",
        "import matplotlib.pyplot as plt\n"
      ]
    },
    {
      "cell_type": "code",
      "source": [
        "import tensorflow as tf\n",
        "from tensorflow import keras"
      ],
      "metadata": {
        "id": "KWc38kVnDXXw"
      },
      "execution_count": null,
      "outputs": []
    },
    {
      "cell_type": "code",
      "source": [
        "data_x =pd.read_csv(\"Movie_collection_Independent.csv\")"
      ],
      "metadata": {
        "id": "LsDv5DJKDeZU"
      },
      "execution_count": null,
      "outputs": []
    },
    {
      "cell_type": "code",
      "source": [
        "data_y =pd.read_csv(\"Movie_collection_Target.csv\")"
      ],
      "metadata": {
        "id": "tnahMzc6E2Oq"
      },
      "execution_count": null,
      "outputs": []
    },
    {
      "cell_type": "code",
      "source": [
        "data_x.shape"
      ],
      "metadata": {
        "colab": {
          "base_uri": "https://localhost:8080/"
        },
        "id": "81ykXE2QFKha",
        "outputId": "010f180d-06c1-4c2a-f2d8-d43cd8db153d"
      },
      "execution_count": null,
      "outputs": [
        {
          "output_type": "execute_result",
          "data": {
            "text/plain": [
              "(506, 19)"
            ]
          },
          "metadata": {},
          "execution_count": 12
        }
      ]
    },
    {
      "cell_type": "code",
      "source": [
        "data_y.shape"
      ],
      "metadata": {
        "id": "PdDqSBsJFODT",
        "outputId": "4a5ee7c1-502e-47a2-d78d-a5dde67d8733",
        "colab": {
          "base_uri": "https://localhost:8080/"
        }
      },
      "execution_count": null,
      "outputs": [
        {
          "output_type": "execute_result",
          "data": {
            "text/plain": [
              "(506, 1)"
            ]
          },
          "metadata": {},
          "execution_count": 13
        }
      ]
    },
    {
      "cell_type": "code",
      "source": [
        "data_x.head(5)"
      ],
      "metadata": {
        "id": "0KBqJukFFQdD",
        "colab": {
          "base_uri": "https://localhost:8080/",
          "height": 287
        },
        "outputId": "5b08bbb4-1333-4fd4-ea7a-2504700252f1"
      },
      "execution_count": null,
      "outputs": [
        {
          "output_type": "execute_result",
          "data": {
            "text/plain": [
              "   Marketin_expense  Production_expense  Multiplex_coverage     Budget  \\\n",
              "0           20.1264               59.62               0.462  36524.125   \n",
              "1           20.5462               69.14               0.531  35668.655   \n",
              "2           20.5458               69.14               0.531  39912.675   \n",
              "3           20.6474               59.36               0.542  38873.890   \n",
              "4           21.3810               59.36               0.542  39701.585   \n",
              "\n",
              "   Movie_length  Lead_ Actor_Rating  Lead_Actress_rating  Director_rating  \\\n",
              "0         138.7               7.825                8.095            7.910   \n",
              "1         152.4               7.505                7.650            7.440   \n",
              "2         134.6               7.485                7.570            7.495   \n",
              "3         119.3               6.895                7.035            6.920   \n",
              "4         127.7               6.920                7.070            6.815   \n",
              "\n",
              "   Producer_rating  Critic_rating  Trailer_views  Time_taken  Twitter_hastags  \\\n",
              "0            7.995           7.94         527367      109.60          223.840   \n",
              "1            7.470           7.44         494055      146.64          243.456   \n",
              "2            7.515           7.44         547051      147.88         2022.400   \n",
              "3            7.020           8.26         516279      185.36          225.344   \n",
              "4            7.070           8.26         531448      176.48          225.792   \n",
              "\n",
              "   Avg_age_actors  Num_multiplex  3D_available  Genre_Thriller  Genre_Drama  \\\n",
              "0              23            494             1               1            0   \n",
              "1              42            462             0               0            1   \n",
              "2              38            458             0               0            0   \n",
              "3              45            472             1               0            1   \n",
              "4              55            395             0               0            1   \n",
              "\n",
              "   Genre_Comedy  \n",
              "0             0  \n",
              "1             0  \n",
              "2             1  \n",
              "3             0  \n",
              "4             0  "
            ],
            "text/html": [
              "\n",
              "  <div id=\"df-9dd6ded4-5e4f-4f8d-af01-0576f38eae76\">\n",
              "    <div class=\"colab-df-container\">\n",
              "      <div>\n",
              "<style scoped>\n",
              "    .dataframe tbody tr th:only-of-type {\n",
              "        vertical-align: middle;\n",
              "    }\n",
              "\n",
              "    .dataframe tbody tr th {\n",
              "        vertical-align: top;\n",
              "    }\n",
              "\n",
              "    .dataframe thead th {\n",
              "        text-align: right;\n",
              "    }\n",
              "</style>\n",
              "<table border=\"1\" class=\"dataframe\">\n",
              "  <thead>\n",
              "    <tr style=\"text-align: right;\">\n",
              "      <th></th>\n",
              "      <th>Marketin_expense</th>\n",
              "      <th>Production_expense</th>\n",
              "      <th>Multiplex_coverage</th>\n",
              "      <th>Budget</th>\n",
              "      <th>Movie_length</th>\n",
              "      <th>Lead_ Actor_Rating</th>\n",
              "      <th>Lead_Actress_rating</th>\n",
              "      <th>Director_rating</th>\n",
              "      <th>Producer_rating</th>\n",
              "      <th>Critic_rating</th>\n",
              "      <th>Trailer_views</th>\n",
              "      <th>Time_taken</th>\n",
              "      <th>Twitter_hastags</th>\n",
              "      <th>Avg_age_actors</th>\n",
              "      <th>Num_multiplex</th>\n",
              "      <th>3D_available</th>\n",
              "      <th>Genre_Thriller</th>\n",
              "      <th>Genre_Drama</th>\n",
              "      <th>Genre_Comedy</th>\n",
              "    </tr>\n",
              "  </thead>\n",
              "  <tbody>\n",
              "    <tr>\n",
              "      <th>0</th>\n",
              "      <td>20.1264</td>\n",
              "      <td>59.62</td>\n",
              "      <td>0.462</td>\n",
              "      <td>36524.125</td>\n",
              "      <td>138.7</td>\n",
              "      <td>7.825</td>\n",
              "      <td>8.095</td>\n",
              "      <td>7.910</td>\n",
              "      <td>7.995</td>\n",
              "      <td>7.94</td>\n",
              "      <td>527367</td>\n",
              "      <td>109.60</td>\n",
              "      <td>223.840</td>\n",
              "      <td>23</td>\n",
              "      <td>494</td>\n",
              "      <td>1</td>\n",
              "      <td>1</td>\n",
              "      <td>0</td>\n",
              "      <td>0</td>\n",
              "    </tr>\n",
              "    <tr>\n",
              "      <th>1</th>\n",
              "      <td>20.5462</td>\n",
              "      <td>69.14</td>\n",
              "      <td>0.531</td>\n",
              "      <td>35668.655</td>\n",
              "      <td>152.4</td>\n",
              "      <td>7.505</td>\n",
              "      <td>7.650</td>\n",
              "      <td>7.440</td>\n",
              "      <td>7.470</td>\n",
              "      <td>7.44</td>\n",
              "      <td>494055</td>\n",
              "      <td>146.64</td>\n",
              "      <td>243.456</td>\n",
              "      <td>42</td>\n",
              "      <td>462</td>\n",
              "      <td>0</td>\n",
              "      <td>0</td>\n",
              "      <td>1</td>\n",
              "      <td>0</td>\n",
              "    </tr>\n",
              "    <tr>\n",
              "      <th>2</th>\n",
              "      <td>20.5458</td>\n",
              "      <td>69.14</td>\n",
              "      <td>0.531</td>\n",
              "      <td>39912.675</td>\n",
              "      <td>134.6</td>\n",
              "      <td>7.485</td>\n",
              "      <td>7.570</td>\n",
              "      <td>7.495</td>\n",
              "      <td>7.515</td>\n",
              "      <td>7.44</td>\n",
              "      <td>547051</td>\n",
              "      <td>147.88</td>\n",
              "      <td>2022.400</td>\n",
              "      <td>38</td>\n",
              "      <td>458</td>\n",
              "      <td>0</td>\n",
              "      <td>0</td>\n",
              "      <td>0</td>\n",
              "      <td>1</td>\n",
              "    </tr>\n",
              "    <tr>\n",
              "      <th>3</th>\n",
              "      <td>20.6474</td>\n",
              "      <td>59.36</td>\n",
              "      <td>0.542</td>\n",
              "      <td>38873.890</td>\n",
              "      <td>119.3</td>\n",
              "      <td>6.895</td>\n",
              "      <td>7.035</td>\n",
              "      <td>6.920</td>\n",
              "      <td>7.020</td>\n",
              "      <td>8.26</td>\n",
              "      <td>516279</td>\n",
              "      <td>185.36</td>\n",
              "      <td>225.344</td>\n",
              "      <td>45</td>\n",
              "      <td>472</td>\n",
              "      <td>1</td>\n",
              "      <td>0</td>\n",
              "      <td>1</td>\n",
              "      <td>0</td>\n",
              "    </tr>\n",
              "    <tr>\n",
              "      <th>4</th>\n",
              "      <td>21.3810</td>\n",
              "      <td>59.36</td>\n",
              "      <td>0.542</td>\n",
              "      <td>39701.585</td>\n",
              "      <td>127.7</td>\n",
              "      <td>6.920</td>\n",
              "      <td>7.070</td>\n",
              "      <td>6.815</td>\n",
              "      <td>7.070</td>\n",
              "      <td>8.26</td>\n",
              "      <td>531448</td>\n",
              "      <td>176.48</td>\n",
              "      <td>225.792</td>\n",
              "      <td>55</td>\n",
              "      <td>395</td>\n",
              "      <td>0</td>\n",
              "      <td>0</td>\n",
              "      <td>1</td>\n",
              "      <td>0</td>\n",
              "    </tr>\n",
              "  </tbody>\n",
              "</table>\n",
              "</div>\n",
              "      <button class=\"colab-df-convert\" onclick=\"convertToInteractive('df-9dd6ded4-5e4f-4f8d-af01-0576f38eae76')\"\n",
              "              title=\"Convert this dataframe to an interactive table.\"\n",
              "              style=\"display:none;\">\n",
              "        \n",
              "  <svg xmlns=\"http://www.w3.org/2000/svg\" height=\"24px\"viewBox=\"0 0 24 24\"\n",
              "       width=\"24px\">\n",
              "    <path d=\"M0 0h24v24H0V0z\" fill=\"none\"/>\n",
              "    <path d=\"M18.56 5.44l.94 2.06.94-2.06 2.06-.94-2.06-.94-.94-2.06-.94 2.06-2.06.94zm-11 1L8.5 8.5l.94-2.06 2.06-.94-2.06-.94L8.5 2.5l-.94 2.06-2.06.94zm10 10l.94 2.06.94-2.06 2.06-.94-2.06-.94-.94-2.06-.94 2.06-2.06.94z\"/><path d=\"M17.41 7.96l-1.37-1.37c-.4-.4-.92-.59-1.43-.59-.52 0-1.04.2-1.43.59L10.3 9.45l-7.72 7.72c-.78.78-.78 2.05 0 2.83L4 21.41c.39.39.9.59 1.41.59.51 0 1.02-.2 1.41-.59l7.78-7.78 2.81-2.81c.8-.78.8-2.07 0-2.86zM5.41 20L4 18.59l7.72-7.72 1.47 1.35L5.41 20z\"/>\n",
              "  </svg>\n",
              "      </button>\n",
              "      \n",
              "  <style>\n",
              "    .colab-df-container {\n",
              "      display:flex;\n",
              "      flex-wrap:wrap;\n",
              "      gap: 12px;\n",
              "    }\n",
              "\n",
              "    .colab-df-convert {\n",
              "      background-color: #E8F0FE;\n",
              "      border: none;\n",
              "      border-radius: 50%;\n",
              "      cursor: pointer;\n",
              "      display: none;\n",
              "      fill: #1967D2;\n",
              "      height: 32px;\n",
              "      padding: 0 0 0 0;\n",
              "      width: 32px;\n",
              "    }\n",
              "\n",
              "    .colab-df-convert:hover {\n",
              "      background-color: #E2EBFA;\n",
              "      box-shadow: 0px 1px 2px rgba(60, 64, 67, 0.3), 0px 1px 3px 1px rgba(60, 64, 67, 0.15);\n",
              "      fill: #174EA6;\n",
              "    }\n",
              "\n",
              "    [theme=dark] .colab-df-convert {\n",
              "      background-color: #3B4455;\n",
              "      fill: #D2E3FC;\n",
              "    }\n",
              "\n",
              "    [theme=dark] .colab-df-convert:hover {\n",
              "      background-color: #434B5C;\n",
              "      box-shadow: 0px 1px 3px 1px rgba(0, 0, 0, 0.15);\n",
              "      filter: drop-shadow(0px 1px 2px rgba(0, 0, 0, 0.3));\n",
              "      fill: #FFFFFF;\n",
              "    }\n",
              "  </style>\n",
              "\n",
              "      <script>\n",
              "        const buttonEl =\n",
              "          document.querySelector('#df-9dd6ded4-5e4f-4f8d-af01-0576f38eae76 button.colab-df-convert');\n",
              "        buttonEl.style.display =\n",
              "          google.colab.kernel.accessAllowed ? 'block' : 'none';\n",
              "\n",
              "        async function convertToInteractive(key) {\n",
              "          const element = document.querySelector('#df-9dd6ded4-5e4f-4f8d-af01-0576f38eae76');\n",
              "          const dataTable =\n",
              "            await google.colab.kernel.invokeFunction('convertToInteractive',\n",
              "                                                     [key], {});\n",
              "          if (!dataTable) return;\n",
              "\n",
              "          const docLinkHtml = 'Like what you see? Visit the ' +\n",
              "            '<a target=\"_blank\" href=https://colab.research.google.com/notebooks/data_table.ipynb>data table notebook</a>'\n",
              "            + ' to learn more about interactive tables.';\n",
              "          element.innerHTML = '';\n",
              "          dataTable['output_type'] = 'display_data';\n",
              "          await google.colab.output.renderOutput(dataTable, element);\n",
              "          const docLink = document.createElement('div');\n",
              "          docLink.innerHTML = docLinkHtml;\n",
              "          element.appendChild(docLink);\n",
              "        }\n",
              "      </script>\n",
              "    </div>\n",
              "  </div>\n",
              "  "
            ]
          },
          "metadata": {},
          "execution_count": 14
        }
      ]
    },
    {
      "cell_type": "code",
      "source": [
        "data_y.head(5)"
      ],
      "metadata": {
        "colab": {
          "base_uri": "https://localhost:8080/",
          "height": 206
        },
        "id": "-IFH5twiF741",
        "outputId": "a3ee7a41-9b08-42af-f03a-9c19d441576c"
      },
      "execution_count": null,
      "outputs": [
        {
          "output_type": "execute_result",
          "data": {
            "text/plain": [
              "   Collection\n",
              "0    2.266667\n",
              "1    2.106667\n",
              "2    2.980000\n",
              "3    2.893333\n",
              "4    3.080000"
            ],
            "text/html": [
              "\n",
              "  <div id=\"df-1a4b8b0a-f4af-49fb-b4bd-c0fbd5224682\">\n",
              "    <div class=\"colab-df-container\">\n",
              "      <div>\n",
              "<style scoped>\n",
              "    .dataframe tbody tr th:only-of-type {\n",
              "        vertical-align: middle;\n",
              "    }\n",
              "\n",
              "    .dataframe tbody tr th {\n",
              "        vertical-align: top;\n",
              "    }\n",
              "\n",
              "    .dataframe thead th {\n",
              "        text-align: right;\n",
              "    }\n",
              "</style>\n",
              "<table border=\"1\" class=\"dataframe\">\n",
              "  <thead>\n",
              "    <tr style=\"text-align: right;\">\n",
              "      <th></th>\n",
              "      <th>Collection</th>\n",
              "    </tr>\n",
              "  </thead>\n",
              "  <tbody>\n",
              "    <tr>\n",
              "      <th>0</th>\n",
              "      <td>2.266667</td>\n",
              "    </tr>\n",
              "    <tr>\n",
              "      <th>1</th>\n",
              "      <td>2.106667</td>\n",
              "    </tr>\n",
              "    <tr>\n",
              "      <th>2</th>\n",
              "      <td>2.980000</td>\n",
              "    </tr>\n",
              "    <tr>\n",
              "      <th>3</th>\n",
              "      <td>2.893333</td>\n",
              "    </tr>\n",
              "    <tr>\n",
              "      <th>4</th>\n",
              "      <td>3.080000</td>\n",
              "    </tr>\n",
              "  </tbody>\n",
              "</table>\n",
              "</div>\n",
              "      <button class=\"colab-df-convert\" onclick=\"convertToInteractive('df-1a4b8b0a-f4af-49fb-b4bd-c0fbd5224682')\"\n",
              "              title=\"Convert this dataframe to an interactive table.\"\n",
              "              style=\"display:none;\">\n",
              "        \n",
              "  <svg xmlns=\"http://www.w3.org/2000/svg\" height=\"24px\"viewBox=\"0 0 24 24\"\n",
              "       width=\"24px\">\n",
              "    <path d=\"M0 0h24v24H0V0z\" fill=\"none\"/>\n",
              "    <path d=\"M18.56 5.44l.94 2.06.94-2.06 2.06-.94-2.06-.94-.94-2.06-.94 2.06-2.06.94zm-11 1L8.5 8.5l.94-2.06 2.06-.94-2.06-.94L8.5 2.5l-.94 2.06-2.06.94zm10 10l.94 2.06.94-2.06 2.06-.94-2.06-.94-.94-2.06-.94 2.06-2.06.94z\"/><path d=\"M17.41 7.96l-1.37-1.37c-.4-.4-.92-.59-1.43-.59-.52 0-1.04.2-1.43.59L10.3 9.45l-7.72 7.72c-.78.78-.78 2.05 0 2.83L4 21.41c.39.39.9.59 1.41.59.51 0 1.02-.2 1.41-.59l7.78-7.78 2.81-2.81c.8-.78.8-2.07 0-2.86zM5.41 20L4 18.59l7.72-7.72 1.47 1.35L5.41 20z\"/>\n",
              "  </svg>\n",
              "      </button>\n",
              "      \n",
              "  <style>\n",
              "    .colab-df-container {\n",
              "      display:flex;\n",
              "      flex-wrap:wrap;\n",
              "      gap: 12px;\n",
              "    }\n",
              "\n",
              "    .colab-df-convert {\n",
              "      background-color: #E8F0FE;\n",
              "      border: none;\n",
              "      border-radius: 50%;\n",
              "      cursor: pointer;\n",
              "      display: none;\n",
              "      fill: #1967D2;\n",
              "      height: 32px;\n",
              "      padding: 0 0 0 0;\n",
              "      width: 32px;\n",
              "    }\n",
              "\n",
              "    .colab-df-convert:hover {\n",
              "      background-color: #E2EBFA;\n",
              "      box-shadow: 0px 1px 2px rgba(60, 64, 67, 0.3), 0px 1px 3px 1px rgba(60, 64, 67, 0.15);\n",
              "      fill: #174EA6;\n",
              "    }\n",
              "\n",
              "    [theme=dark] .colab-df-convert {\n",
              "      background-color: #3B4455;\n",
              "      fill: #D2E3FC;\n",
              "    }\n",
              "\n",
              "    [theme=dark] .colab-df-convert:hover {\n",
              "      background-color: #434B5C;\n",
              "      box-shadow: 0px 1px 3px 1px rgba(0, 0, 0, 0.15);\n",
              "      filter: drop-shadow(0px 1px 2px rgba(0, 0, 0, 0.3));\n",
              "      fill: #FFFFFF;\n",
              "    }\n",
              "  </style>\n",
              "\n",
              "      <script>\n",
              "        const buttonEl =\n",
              "          document.querySelector('#df-1a4b8b0a-f4af-49fb-b4bd-c0fbd5224682 button.colab-df-convert');\n",
              "        buttonEl.style.display =\n",
              "          google.colab.kernel.accessAllowed ? 'block' : 'none';\n",
              "\n",
              "        async function convertToInteractive(key) {\n",
              "          const element = document.querySelector('#df-1a4b8b0a-f4af-49fb-b4bd-c0fbd5224682');\n",
              "          const dataTable =\n",
              "            await google.colab.kernel.invokeFunction('convertToInteractive',\n",
              "                                                     [key], {});\n",
              "          if (!dataTable) return;\n",
              "\n",
              "          const docLinkHtml = 'Like what you see? Visit the ' +\n",
              "            '<a target=\"_blank\" href=https://colab.research.google.com/notebooks/data_table.ipynb>data table notebook</a>'\n",
              "            + ' to learn more about interactive tables.';\n",
              "          element.innerHTML = '';\n",
              "          dataTable['output_type'] = 'display_data';\n",
              "          await google.colab.output.renderOutput(dataTable, element);\n",
              "          const docLink = document.createElement('div');\n",
              "          docLink.innerHTML = docLinkHtml;\n",
              "          element.appendChild(docLink);\n",
              "        }\n",
              "      </script>\n",
              "    </div>\n",
              "  </div>\n",
              "  "
            ]
          },
          "metadata": {},
          "execution_count": 15
        }
      ]
    },
    {
      "cell_type": "code",
      "source": [
        "from sklearn.model_selection import train_test_split\n",
        "x_train_full,x_test,y_train_full,y_test =train_test_split(data_x,data_y,random_state =42)\n",
        "x_train,x_valid,y_train,y_valid =train_test_split(x_train_full,y_train_full,random_state =42)"
      ],
      "metadata": {
        "id": "gZJF7bPLGAUp"
      },
      "execution_count": null,
      "outputs": []
    },
    {
      "cell_type": "code",
      "source": [
        "x_train.shape"
      ],
      "metadata": {
        "colab": {
          "base_uri": "https://localhost:8080/"
        },
        "id": "29rqclk-KF0x",
        "outputId": "7b2bffb6-2948-4076-e0c9-d724d07d2c41"
      },
      "execution_count": null,
      "outputs": [
        {
          "output_type": "execute_result",
          "data": {
            "text/plain": [
              "(284, 19)"
            ]
          },
          "metadata": {},
          "execution_count": 17
        }
      ]
    },
    {
      "cell_type": "code",
      "source": [
        "x_valid.shape"
      ],
      "metadata": {
        "colab": {
          "base_uri": "https://localhost:8080/"
        },
        "id": "mQjwGyIHKLGX",
        "outputId": "157b6f82-0e83-4007-cc45-d3eeef9ce65e"
      },
      "execution_count": null,
      "outputs": [
        {
          "output_type": "execute_result",
          "data": {
            "text/plain": [
              "(95, 19)"
            ]
          },
          "metadata": {},
          "execution_count": 18
        }
      ]
    },
    {
      "cell_type": "code",
      "source": [
        "x_test.shape"
      ],
      "metadata": {
        "colab": {
          "base_uri": "https://localhost:8080/"
        },
        "id": "UVlAp-w5KNwI",
        "outputId": "21c81595-d607-418d-b9fd-90dc6e770eaf"
      },
      "execution_count": null,
      "outputs": [
        {
          "output_type": "execute_result",
          "data": {
            "text/plain": [
              "(127, 19)"
            ]
          },
          "metadata": {},
          "execution_count": 19
        }
      ]
    },
    {
      "cell_type": "code",
      "source": [
        "y_train.shape"
      ],
      "metadata": {
        "colab": {
          "base_uri": "https://localhost:8080/"
        },
        "id": "LA-UTtMXKQPR",
        "outputId": "cdd13988-8029-43d0-dd04-0e408a9cfa1c"
      },
      "execution_count": null,
      "outputs": [
        {
          "output_type": "execute_result",
          "data": {
            "text/plain": [
              "(284, 1)"
            ]
          },
          "metadata": {},
          "execution_count": 20
        }
      ]
    },
    {
      "cell_type": "code",
      "source": [
        "y_test.shape"
      ],
      "metadata": {
        "colab": {
          "base_uri": "https://localhost:8080/"
        },
        "id": "PZaLTI-zKTFL",
        "outputId": "a071b49f-fb14-4225-9dc0-30fda7e89de2"
      },
      "execution_count": null,
      "outputs": [
        {
          "output_type": "execute_result",
          "data": {
            "text/plain": [
              "(127, 1)"
            ]
          },
          "metadata": {},
          "execution_count": 21
        }
      ]
    },
    {
      "cell_type": "code",
      "source": [
        "y_valid.shape"
      ],
      "metadata": {
        "colab": {
          "base_uri": "https://localhost:8080/"
        },
        "id": "jfOetmAnKXSL",
        "outputId": "64a5aafc-53b6-4b50-a48f-ae41e17be76a"
      },
      "execution_count": null,
      "outputs": [
        {
          "output_type": "execute_result",
          "data": {
            "text/plain": [
              "(95, 1)"
            ]
          },
          "metadata": {},
          "execution_count": 22
        }
      ]
    },
    {
      "cell_type": "code",
      "source": [
        "x_train = np.asarray(x_train)\n",
        "y_train = np.asarray(y_train)\n",
        "x_valid = np.asarray(x_valid)\n",
        "y_valid = np.asarray(y_valid)"
      ],
      "metadata": {
        "id": "n39ialJBGPkh"
      },
      "execution_count": null,
      "outputs": []
    },
    {
      "cell_type": "code",
      "source": [
        "from sklearn.preprocessing import StandardScaler\n",
        "scalar = StandardScaler()\n",
        "x_train =scalar.fit_transform(x_train)\n",
        "x_valid =scalar.transform(x_valid)\n",
        "x_test = scalar.transform(x_test)\n"
      ],
      "metadata": {
        "colab": {
          "base_uri": "https://localhost:8080/"
        },
        "id": "1PNn_0-BI11Y",
        "outputId": "76e9b6d3-a0a5-44f1-ec98-bb993357e8d7"
      },
      "execution_count": null,
      "outputs": [
        {
          "output_type": "stream",
          "name": "stderr",
          "text": [
            "/usr/local/lib/python3.7/dist-packages/sklearn/base.py:444: UserWarning: X has feature names, but StandardScaler was fitted without feature names\n",
            "  f\"X has feature names, but {self.__class__.__name__} was fitted without\"\n"
          ]
        }
      ]
    },
    {
      "cell_type": "code",
      "source": [
        "np.random.seed(42)\n",
        "tf.random.set_seed(42)"
      ],
      "metadata": {
        "id": "RvXdmEusJl6B"
      },
      "execution_count": null,
      "outputs": []
    },
    {
      "cell_type": "code",
      "source": [
        "x_train.shape"
      ],
      "metadata": {
        "colab": {
          "base_uri": "https://localhost:8080/"
        },
        "id": "2fu9SbGPJr72",
        "outputId": "617598ea-2677-4503-f559-1ca5cfb14df9"
      },
      "execution_count": null,
      "outputs": [
        {
          "output_type": "execute_result",
          "data": {
            "text/plain": [
              "(284, 19)"
            ]
          },
          "metadata": {},
          "execution_count": 26
        }
      ]
    },
    {
      "cell_type": "code",
      "source": [
        "model = keras.models.Sequential([\n",
        "keras.layers.Dense(30,activation=\"relu\",input_shape =[19]),\n",
        "keras.layers.Dense(30,activation=\"relu\"),\n",
        "keras.layers.Dense(1)\n",
        "])"
      ],
      "metadata": {
        "id": "uKECcER0JuG5"
      },
      "execution_count": null,
      "outputs": []
    },
    {
      "cell_type": "code",
      "source": [
        "model.summary()"
      ],
      "metadata": {
        "colab": {
          "base_uri": "https://localhost:8080/"
        },
        "id": "BobnS0AOKyF6",
        "outputId": "3d1226b4-28de-4295-8634-2bf510c89d13"
      },
      "execution_count": null,
      "outputs": [
        {
          "output_type": "stream",
          "name": "stdout",
          "text": [
            "Model: \"sequential\"\n",
            "_________________________________________________________________\n",
            " Layer (type)                Output Shape              Param #   \n",
            "=================================================================\n",
            " dense (Dense)               (None, 30)                600       \n",
            "                                                                 \n",
            " dense_1 (Dense)             (None, 30)                930       \n",
            "                                                                 \n",
            " dense_2 (Dense)             (None, 1)                 31        \n",
            "                                                                 \n",
            "=================================================================\n",
            "Total params: 1,561\n",
            "Trainable params: 1,561\n",
            "Non-trainable params: 0\n",
            "_________________________________________________________________\n"
          ]
        }
      ]
    },
    {
      "cell_type": "code",
      "source": [
        "model.compile(loss = 'mean_squared_error',optimizer =keras.optimizers.SGD(lr=1e-3),metrics =[\"mae\"])"
      ],
      "metadata": {
        "colab": {
          "base_uri": "https://localhost:8080/"
        },
        "id": "CSz_cKn6K9F2",
        "outputId": "4172ff87-7a83-4f89-b7af-10063c808b8a"
      },
      "execution_count": null,
      "outputs": [
        {
          "output_type": "stream",
          "name": "stderr",
          "text": [
            "/usr/local/lib/python3.7/dist-packages/keras/optimizer_v2/gradient_descent.py:102: UserWarning: The `lr` argument is deprecated, use `learning_rate` instead.\n",
            "  super(SGD, self).__init__(name, **kwargs)\n"
          ]
        }
      ]
    },
    {
      "cell_type": "code",
      "source": [
        "model_history = model.fit(x_train,y_train,epochs =100,validation_data =(x_valid,y_valid))"
      ],
      "metadata": {
        "colab": {
          "base_uri": "https://localhost:8080/"
        },
        "id": "qOIvDSpHLPvf",
        "outputId": "b0c86abe-4aff-4d1a-947d-91cfba1d0972"
      },
      "execution_count": null,
      "outputs": [
        {
          "output_type": "stream",
          "name": "stdout",
          "text": [
            "Epoch 1/100\n",
            "9/9 [==============================] - 1s 26ms/step - loss: 7.6430 - mae: 2.6619 - val_loss: 7.4087 - val_mae: 2.6199\n",
            "Epoch 2/100\n",
            "9/9 [==============================] - 0s 7ms/step - loss: 5.8750 - mae: 2.3122 - val_loss: 5.9614 - val_mae: 2.3288\n",
            "Epoch 3/100\n",
            "9/9 [==============================] - 0s 7ms/step - loss: 4.6160 - mae: 2.0258 - val_loss: 4.8729 - val_mae: 2.0806\n",
            "Epoch 4/100\n",
            "9/9 [==============================] - 0s 5ms/step - loss: 3.6731 - mae: 1.7794 - val_loss: 4.0252 - val_mae: 1.8648\n",
            "Epoch 5/100\n",
            "9/9 [==============================] - 0s 7ms/step - loss: 2.9491 - mae: 1.5607 - val_loss: 3.3547 - val_mae: 1.6778\n",
            "Epoch 6/100\n",
            "9/9 [==============================] - 0s 7ms/step - loss: 2.3923 - mae: 1.3747 - val_loss: 2.8238 - val_mae: 1.5114\n",
            "Epoch 7/100\n",
            "9/9 [==============================] - 0s 5ms/step - loss: 1.9661 - mae: 1.2156 - val_loss: 2.4016 - val_mae: 1.3662\n",
            "Epoch 8/100\n",
            "9/9 [==============================] - 0s 5ms/step - loss: 1.6400 - mae: 1.0785 - val_loss: 2.0719 - val_mae: 1.2436\n",
            "Epoch 9/100\n",
            "9/9 [==============================] - 0s 5ms/step - loss: 1.3952 - mae: 0.9743 - val_loss: 1.8075 - val_mae: 1.1413\n",
            "Epoch 10/100\n",
            "9/9 [==============================] - 0s 7ms/step - loss: 1.2086 - mae: 0.8917 - val_loss: 1.5983 - val_mae: 1.0606\n",
            "Epoch 11/100\n",
            "9/9 [==============================] - 0s 7ms/step - loss: 1.0697 - mae: 0.8300 - val_loss: 1.4333 - val_mae: 0.9933\n",
            "Epoch 12/100\n",
            "9/9 [==============================] - 0s 7ms/step - loss: 0.9661 - mae: 0.7838 - val_loss: 1.3026 - val_mae: 0.9405\n",
            "Epoch 13/100\n",
            "9/9 [==============================] - 0s 5ms/step - loss: 0.8869 - mae: 0.7497 - val_loss: 1.1951 - val_mae: 0.8962\n",
            "Epoch 14/100\n",
            "9/9 [==============================] - 0s 5ms/step - loss: 0.8245 - mae: 0.7182 - val_loss: 1.1079 - val_mae: 0.8587\n",
            "Epoch 15/100\n",
            "9/9 [==============================] - 0s 7ms/step - loss: 0.7747 - mae: 0.6945 - val_loss: 1.0365 - val_mae: 0.8260\n",
            "Epoch 16/100\n",
            "9/9 [==============================] - 0s 7ms/step - loss: 0.7349 - mae: 0.6743 - val_loss: 0.9773 - val_mae: 0.7976\n",
            "Epoch 17/100\n",
            "9/9 [==============================] - 0s 7ms/step - loss: 0.7007 - mae: 0.6573 - val_loss: 0.9262 - val_mae: 0.7727\n",
            "Epoch 18/100\n",
            "9/9 [==============================] - 0s 4ms/step - loss: 0.6714 - mae: 0.6418 - val_loss: 0.8817 - val_mae: 0.7506\n",
            "Epoch 19/100\n",
            "9/9 [==============================] - 0s 5ms/step - loss: 0.6455 - mae: 0.6295 - val_loss: 0.8436 - val_mae: 0.7315\n",
            "Epoch 20/100\n",
            "9/9 [==============================] - 0s 5ms/step - loss: 0.6223 - mae: 0.6172 - val_loss: 0.8084 - val_mae: 0.7135\n",
            "Epoch 21/100\n",
            "9/9 [==============================] - 0s 5ms/step - loss: 0.6004 - mae: 0.6061 - val_loss: 0.7771 - val_mae: 0.6973\n",
            "Epoch 22/100\n",
            "9/9 [==============================] - 0s 7ms/step - loss: 0.5809 - mae: 0.5960 - val_loss: 0.7488 - val_mae: 0.6826\n",
            "Epoch 23/100\n",
            "9/9 [==============================] - 0s 7ms/step - loss: 0.5620 - mae: 0.5853 - val_loss: 0.7222 - val_mae: 0.6691\n",
            "Epoch 24/100\n",
            "9/9 [==============================] - 0s 7ms/step - loss: 0.5443 - mae: 0.5766 - val_loss: 0.6981 - val_mae: 0.6574\n",
            "Epoch 25/100\n",
            "9/9 [==============================] - 0s 5ms/step - loss: 0.5279 - mae: 0.5670 - val_loss: 0.6754 - val_mae: 0.6461\n",
            "Epoch 26/100\n",
            "9/9 [==============================] - 0s 5ms/step - loss: 0.5122 - mae: 0.5585 - val_loss: 0.6546 - val_mae: 0.6363\n",
            "Epoch 27/100\n",
            "9/9 [==============================] - 0s 5ms/step - loss: 0.4978 - mae: 0.5504 - val_loss: 0.6348 - val_mae: 0.6268\n",
            "Epoch 28/100\n",
            "9/9 [==============================] - 0s 5ms/step - loss: 0.4831 - mae: 0.5415 - val_loss: 0.6154 - val_mae: 0.6172\n",
            "Epoch 29/100\n",
            "9/9 [==============================] - 0s 7ms/step - loss: 0.4698 - mae: 0.5340 - val_loss: 0.5979 - val_mae: 0.6089\n",
            "Epoch 30/100\n",
            "9/9 [==============================] - 0s 5ms/step - loss: 0.4568 - mae: 0.5256 - val_loss: 0.5809 - val_mae: 0.6009\n",
            "Epoch 31/100\n",
            "9/9 [==============================] - 0s 5ms/step - loss: 0.4442 - mae: 0.5184 - val_loss: 0.5650 - val_mae: 0.5932\n",
            "Epoch 32/100\n",
            "9/9 [==============================] - 0s 7ms/step - loss: 0.4327 - mae: 0.5114 - val_loss: 0.5500 - val_mae: 0.5859\n",
            "Epoch 33/100\n",
            "9/9 [==============================] - 0s 7ms/step - loss: 0.4217 - mae: 0.5050 - val_loss: 0.5361 - val_mae: 0.5790\n",
            "Epoch 34/100\n",
            "9/9 [==============================] - 0s 5ms/step - loss: 0.4106 - mae: 0.4980 - val_loss: 0.5228 - val_mae: 0.5722\n",
            "Epoch 35/100\n",
            "9/9 [==============================] - 0s 7ms/step - loss: 0.4006 - mae: 0.4914 - val_loss: 0.5097 - val_mae: 0.5655\n",
            "Epoch 36/100\n",
            "9/9 [==============================] - 0s 7ms/step - loss: 0.3911 - mae: 0.4854 - val_loss: 0.4968 - val_mae: 0.5587\n",
            "Epoch 37/100\n",
            "9/9 [==============================] - 0s 7ms/step - loss: 0.3817 - mae: 0.4789 - val_loss: 0.4845 - val_mae: 0.5521\n",
            "Epoch 38/100\n",
            "9/9 [==============================] - 0s 7ms/step - loss: 0.3724 - mae: 0.4730 - val_loss: 0.4728 - val_mae: 0.5457\n",
            "Epoch 39/100\n",
            "9/9 [==============================] - 0s 7ms/step - loss: 0.3639 - mae: 0.4674 - val_loss: 0.4618 - val_mae: 0.5396\n",
            "Epoch 40/100\n",
            "9/9 [==============================] - 0s 5ms/step - loss: 0.3559 - mae: 0.4614 - val_loss: 0.4511 - val_mae: 0.5335\n",
            "Epoch 41/100\n",
            "9/9 [==============================] - 0s 5ms/step - loss: 0.3478 - mae: 0.4555 - val_loss: 0.4413 - val_mae: 0.5279\n",
            "Epoch 42/100\n",
            "9/9 [==============================] - 0s 6ms/step - loss: 0.3402 - mae: 0.4501 - val_loss: 0.4318 - val_mae: 0.5223\n",
            "Epoch 43/100\n",
            "9/9 [==============================] - 0s 5ms/step - loss: 0.3332 - mae: 0.4451 - val_loss: 0.4228 - val_mae: 0.5169\n",
            "Epoch 44/100\n",
            "9/9 [==============================] - 0s 5ms/step - loss: 0.3260 - mae: 0.4398 - val_loss: 0.4139 - val_mae: 0.5114\n",
            "Epoch 45/100\n",
            "9/9 [==============================] - 0s 5ms/step - loss: 0.3194 - mae: 0.4349 - val_loss: 0.4056 - val_mae: 0.5063\n",
            "Epoch 46/100\n",
            "9/9 [==============================] - 0s 5ms/step - loss: 0.3128 - mae: 0.4302 - val_loss: 0.3974 - val_mae: 0.5011\n",
            "Epoch 47/100\n",
            "9/9 [==============================] - 0s 5ms/step - loss: 0.3067 - mae: 0.4258 - val_loss: 0.3897 - val_mae: 0.4961\n",
            "Epoch 48/100\n",
            "9/9 [==============================] - 0s 7ms/step - loss: 0.3007 - mae: 0.4213 - val_loss: 0.3820 - val_mae: 0.4910\n",
            "Epoch 49/100\n",
            "9/9 [==============================] - 0s 6ms/step - loss: 0.2953 - mae: 0.4171 - val_loss: 0.3747 - val_mae: 0.4860\n",
            "Epoch 50/100\n",
            "9/9 [==============================] - 0s 5ms/step - loss: 0.2895 - mae: 0.4127 - val_loss: 0.3676 - val_mae: 0.4815\n",
            "Epoch 51/100\n",
            "9/9 [==============================] - 0s 7ms/step - loss: 0.2843 - mae: 0.4086 - val_loss: 0.3609 - val_mae: 0.4773\n",
            "Epoch 52/100\n",
            "9/9 [==============================] - 0s 7ms/step - loss: 0.2794 - mae: 0.4050 - val_loss: 0.3545 - val_mae: 0.4734\n",
            "Epoch 53/100\n",
            "9/9 [==============================] - 0s 5ms/step - loss: 0.2746 - mae: 0.4014 - val_loss: 0.3486 - val_mae: 0.4699\n",
            "Epoch 54/100\n",
            "9/9 [==============================] - 0s 5ms/step - loss: 0.2699 - mae: 0.3977 - val_loss: 0.3423 - val_mae: 0.4659\n",
            "Epoch 55/100\n",
            "9/9 [==============================] - 0s 5ms/step - loss: 0.2654 - mae: 0.3938 - val_loss: 0.3370 - val_mae: 0.4626\n",
            "Epoch 56/100\n",
            "9/9 [==============================] - 0s 5ms/step - loss: 0.2612 - mae: 0.3905 - val_loss: 0.3317 - val_mae: 0.4593\n",
            "Epoch 57/100\n",
            "9/9 [==============================] - 0s 7ms/step - loss: 0.2570 - mae: 0.3870 - val_loss: 0.3262 - val_mae: 0.4556\n",
            "Epoch 58/100\n",
            "9/9 [==============================] - 0s 5ms/step - loss: 0.2531 - mae: 0.3837 - val_loss: 0.3207 - val_mae: 0.4519\n",
            "Epoch 59/100\n",
            "9/9 [==============================] - 0s 5ms/step - loss: 0.2492 - mae: 0.3809 - val_loss: 0.3154 - val_mae: 0.4482\n",
            "Epoch 60/100\n",
            "9/9 [==============================] - 0s 5ms/step - loss: 0.2455 - mae: 0.3776 - val_loss: 0.3109 - val_mae: 0.4452\n",
            "Epoch 61/100\n",
            "9/9 [==============================] - 0s 7ms/step - loss: 0.2419 - mae: 0.3747 - val_loss: 0.3064 - val_mae: 0.4419\n",
            "Epoch 62/100\n",
            "9/9 [==============================] - 0s 5ms/step - loss: 0.2386 - mae: 0.3719 - val_loss: 0.3018 - val_mae: 0.4387\n",
            "Epoch 63/100\n",
            "9/9 [==============================] - 0s 5ms/step - loss: 0.2353 - mae: 0.3690 - val_loss: 0.2976 - val_mae: 0.4356\n",
            "Epoch 64/100\n",
            "9/9 [==============================] - 0s 5ms/step - loss: 0.2320 - mae: 0.3662 - val_loss: 0.2936 - val_mae: 0.4326\n",
            "Epoch 65/100\n",
            "9/9 [==============================] - 0s 6ms/step - loss: 0.2291 - mae: 0.3636 - val_loss: 0.2896 - val_mae: 0.4295\n",
            "Epoch 66/100\n",
            "9/9 [==============================] - 0s 6ms/step - loss: 0.2259 - mae: 0.3608 - val_loss: 0.2854 - val_mae: 0.4263\n",
            "Epoch 67/100\n",
            "9/9 [==============================] - 0s 7ms/step - loss: 0.2231 - mae: 0.3583 - val_loss: 0.2819 - val_mae: 0.4237\n",
            "Epoch 68/100\n",
            "9/9 [==============================] - 0s 5ms/step - loss: 0.2201 - mae: 0.3555 - val_loss: 0.2785 - val_mae: 0.4211\n",
            "Epoch 69/100\n",
            "9/9 [==============================] - 0s 7ms/step - loss: 0.2176 - mae: 0.3533 - val_loss: 0.2751 - val_mae: 0.4183\n",
            "Epoch 70/100\n",
            "9/9 [==============================] - 0s 4ms/step - loss: 0.2149 - mae: 0.3509 - val_loss: 0.2715 - val_mae: 0.4155\n",
            "Epoch 71/100\n",
            "9/9 [==============================] - 0s 7ms/step - loss: 0.2124 - mae: 0.3485 - val_loss: 0.2680 - val_mae: 0.4126\n",
            "Epoch 72/100\n",
            "9/9 [==============================] - 0s 5ms/step - loss: 0.2098 - mae: 0.3462 - val_loss: 0.2650 - val_mae: 0.4101\n",
            "Epoch 73/100\n",
            "9/9 [==============================] - 0s 5ms/step - loss: 0.2073 - mae: 0.3442 - val_loss: 0.2618 - val_mae: 0.4074\n",
            "Epoch 74/100\n",
            "9/9 [==============================] - 0s 5ms/step - loss: 0.2049 - mae: 0.3422 - val_loss: 0.2588 - val_mae: 0.4049\n",
            "Epoch 75/100\n",
            "9/9 [==============================] - 0s 5ms/step - loss: 0.2026 - mae: 0.3400 - val_loss: 0.2558 - val_mae: 0.4024\n",
            "Epoch 76/100\n",
            "9/9 [==============================] - 0s 5ms/step - loss: 0.2005 - mae: 0.3383 - val_loss: 0.2527 - val_mae: 0.3997\n",
            "Epoch 77/100\n",
            "9/9 [==============================] - 0s 4ms/step - loss: 0.1984 - mae: 0.3364 - val_loss: 0.2500 - val_mae: 0.3974\n",
            "Epoch 78/100\n",
            "9/9 [==============================] - 0s 5ms/step - loss: 0.1963 - mae: 0.3344 - val_loss: 0.2476 - val_mae: 0.3954\n",
            "Epoch 79/100\n",
            "9/9 [==============================] - 0s 5ms/step - loss: 0.1944 - mae: 0.3326 - val_loss: 0.2452 - val_mae: 0.3934\n",
            "Epoch 80/100\n",
            "9/9 [==============================] - 0s 5ms/step - loss: 0.1924 - mae: 0.3307 - val_loss: 0.2426 - val_mae: 0.3912\n",
            "Epoch 81/100\n",
            "9/9 [==============================] - 0s 7ms/step - loss: 0.1906 - mae: 0.3292 - val_loss: 0.2400 - val_mae: 0.3889\n",
            "Epoch 82/100\n",
            "9/9 [==============================] - 0s 7ms/step - loss: 0.1886 - mae: 0.3271 - val_loss: 0.2377 - val_mae: 0.3869\n",
            "Epoch 83/100\n",
            "9/9 [==============================] - 0s 7ms/step - loss: 0.1868 - mae: 0.3255 - val_loss: 0.2355 - val_mae: 0.3849\n",
            "Epoch 84/100\n",
            "9/9 [==============================] - 0s 6ms/step - loss: 0.1852 - mae: 0.3239 - val_loss: 0.2331 - val_mae: 0.3828\n",
            "Epoch 85/100\n",
            "9/9 [==============================] - 0s 8ms/step - loss: 0.1834 - mae: 0.3223 - val_loss: 0.2310 - val_mae: 0.3809\n",
            "Epoch 86/100\n",
            "9/9 [==============================] - 0s 7ms/step - loss: 0.1818 - mae: 0.3209 - val_loss: 0.2288 - val_mae: 0.3788\n",
            "Epoch 87/100\n",
            "9/9 [==============================] - 0s 7ms/step - loss: 0.1801 - mae: 0.3192 - val_loss: 0.2268 - val_mae: 0.3770\n",
            "Epoch 88/100\n",
            "9/9 [==============================] - 0s 5ms/step - loss: 0.1787 - mae: 0.3181 - val_loss: 0.2246 - val_mae: 0.3749\n",
            "Epoch 89/100\n",
            "9/9 [==============================] - 0s 5ms/step - loss: 0.1770 - mae: 0.3164 - val_loss: 0.2226 - val_mae: 0.3732\n",
            "Epoch 90/100\n",
            "9/9 [==============================] - 0s 5ms/step - loss: 0.1755 - mae: 0.3151 - val_loss: 0.2208 - val_mae: 0.3717\n",
            "Epoch 91/100\n",
            "9/9 [==============================] - 0s 8ms/step - loss: 0.1741 - mae: 0.3137 - val_loss: 0.2188 - val_mae: 0.3698\n",
            "Epoch 92/100\n",
            "9/9 [==============================] - 0s 5ms/step - loss: 0.1728 - mae: 0.3125 - val_loss: 0.2168 - val_mae: 0.3680\n",
            "Epoch 93/100\n",
            "9/9 [==============================] - 0s 5ms/step - loss: 0.1714 - mae: 0.3111 - val_loss: 0.2151 - val_mae: 0.3664\n",
            "Epoch 94/100\n",
            "9/9 [==============================] - 0s 7ms/step - loss: 0.1702 - mae: 0.3098 - val_loss: 0.2138 - val_mae: 0.3654\n",
            "Epoch 95/100\n",
            "9/9 [==============================] - 0s 7ms/step - loss: 0.1688 - mae: 0.3086 - val_loss: 0.2122 - val_mae: 0.3641\n",
            "Epoch 96/100\n",
            "9/9 [==============================] - 0s 4ms/step - loss: 0.1675 - mae: 0.3072 - val_loss: 0.2106 - val_mae: 0.3625\n",
            "Epoch 97/100\n",
            "9/9 [==============================] - 0s 7ms/step - loss: 0.1662 - mae: 0.3059 - val_loss: 0.2087 - val_mae: 0.3607\n",
            "Epoch 98/100\n",
            "9/9 [==============================] - 0s 5ms/step - loss: 0.1652 - mae: 0.3051 - val_loss: 0.2072 - val_mae: 0.3593\n",
            "Epoch 99/100\n",
            "9/9 [==============================] - 0s 5ms/step - loss: 0.1639 - mae: 0.3038 - val_loss: 0.2057 - val_mae: 0.3578\n",
            "Epoch 100/100\n",
            "9/9 [==============================] - 0s 7ms/step - loss: 0.1627 - mae: 0.3025 - val_loss: 0.2042 - val_mae: 0.3564\n"
          ]
        }
      ]
    },
    {
      "cell_type": "code",
      "source": [
        "mae_test =model.evaluate(x_test,y_test)"
      ],
      "metadata": {
        "colab": {
          "base_uri": "https://localhost:8080/"
        },
        "id": "erGeE3v7LjYZ",
        "outputId": "b9ec428f-cf9b-4679-9018-71eee25ec7b9"
      },
      "execution_count": null,
      "outputs": [
        {
          "output_type": "stream",
          "name": "stdout",
          "text": [
            "4/4 [==============================] - 0s 3ms/step - loss: 0.2473 - mae: 0.3684\n"
          ]
        }
      ]
    },
    {
      "cell_type": "code",
      "source": [
        "model_history.history"
      ],
      "metadata": {
        "colab": {
          "base_uri": "https://localhost:8080/"
        },
        "id": "QgmhNTuuMEGb",
        "outputId": "4c259bcd-3189-45cb-a5b2-406fe4f05e89"
      },
      "execution_count": null,
      "outputs": [
        {
          "output_type": "execute_result",
          "data": {
            "text/plain": [
              "{'loss': [7.643045902252197,\n",
              "  5.87502384185791,\n",
              "  4.615972995758057,\n",
              "  3.6731321811676025,\n",
              "  2.9490725994110107,\n",
              "  2.392319440841675,\n",
              "  1.9661129713058472,\n",
              "  1.6399775743484497,\n",
              "  1.3952336311340332,\n",
              "  1.2086378335952759,\n",
              "  1.0697427988052368,\n",
              "  0.9661034345626831,\n",
              "  0.8868568539619446,\n",
              "  0.8245323896408081,\n",
              "  0.7747146487236023,\n",
              "  0.734935462474823,\n",
              "  0.7006781697273254,\n",
              "  0.6714184880256653,\n",
              "  0.6454845070838928,\n",
              "  0.622272253036499,\n",
              "  0.6003596186637878,\n",
              "  0.58092200756073,\n",
              "  0.5619924664497375,\n",
              "  0.5443352460861206,\n",
              "  0.5279247164726257,\n",
              "  0.5122222900390625,\n",
              "  0.49780896306037903,\n",
              "  0.48311981558799744,\n",
              "  0.46983981132507324,\n",
              "  0.45678770542144775,\n",
              "  0.44416603446006775,\n",
              "  0.4326789081096649,\n",
              "  0.42167651653289795,\n",
              "  0.41063958406448364,\n",
              "  0.40059614181518555,\n",
              "  0.3911300003528595,\n",
              "  0.38172104954719543,\n",
              "  0.37240177392959595,\n",
              "  0.36393222212791443,\n",
              "  0.3558695614337921,\n",
              "  0.34782516956329346,\n",
              "  0.3402309715747833,\n",
              "  0.33316320180892944,\n",
              "  0.3260314166545868,\n",
              "  0.3193664252758026,\n",
              "  0.31283122301101685,\n",
              "  0.3067280948162079,\n",
              "  0.30070704221725464,\n",
              "  0.2952567934989929,\n",
              "  0.2894994616508484,\n",
              "  0.2843404710292816,\n",
              "  0.27938827872276306,\n",
              "  0.27463817596435547,\n",
              "  0.26991942524909973,\n",
              "  0.2653908431529999,\n",
              "  0.2611827552318573,\n",
              "  0.2569965422153473,\n",
              "  0.25306957960128784,\n",
              "  0.24924449622631073,\n",
              "  0.24550698697566986,\n",
              "  0.24189162254333496,\n",
              "  0.23862677812576294,\n",
              "  0.23525656759738922,\n",
              "  0.23198452591896057,\n",
              "  0.22906172275543213,\n",
              "  0.22589245438575745,\n",
              "  0.22310799360275269,\n",
              "  0.22009725868701935,\n",
              "  0.21762600541114807,\n",
              "  0.2148953229188919,\n",
              "  0.21241141855716705,\n",
              "  0.20977585017681122,\n",
              "  0.20732660591602325,\n",
              "  0.20494210720062256,\n",
              "  0.2026471346616745,\n",
              "  0.20048518478870392,\n",
              "  0.19838394224643707,\n",
              "  0.19632820785045624,\n",
              "  0.19435808062553406,\n",
              "  0.19237695634365082,\n",
              "  0.19056640565395355,\n",
              "  0.188628152012825,\n",
              "  0.18681253492832184,\n",
              "  0.1851571500301361,\n",
              "  0.183395653963089,\n",
              "  0.1818104088306427,\n",
              "  0.18008574843406677,\n",
              "  0.1786784678697586,\n",
              "  0.17702315747737885,\n",
              "  0.17552779614925385,\n",
              "  0.17409193515777588,\n",
              "  0.17278121411800385,\n",
              "  0.1714055836200714,\n",
              "  0.17018330097198486,\n",
              "  0.1687946617603302,\n",
              "  0.16746892035007477,\n",
              "  0.16623103618621826,\n",
              "  0.16515286266803741,\n",
              "  0.16386105120182037,\n",
              "  0.16269905865192413],\n",
              " 'mae': [2.661916494369507,\n",
              "  2.3121631145477295,\n",
              "  2.025766372680664,\n",
              "  1.7793608903884888,\n",
              "  1.5607354640960693,\n",
              "  1.3746601343154907,\n",
              "  1.2155956029891968,\n",
              "  1.0785287618637085,\n",
              "  0.9743366241455078,\n",
              "  0.8917014002799988,\n",
              "  0.8299540281295776,\n",
              "  0.7838497161865234,\n",
              "  0.7496722936630249,\n",
              "  0.7181712985038757,\n",
              "  0.6944747567176819,\n",
              "  0.6742792725563049,\n",
              "  0.6572548151016235,\n",
              "  0.6418496966362,\n",
              "  0.629486620426178,\n",
              "  0.617214560508728,\n",
              "  0.6061443090438843,\n",
              "  0.5960274934768677,\n",
              "  0.5853478908538818,\n",
              "  0.5766203999519348,\n",
              "  0.5669825077056885,\n",
              "  0.5585243701934814,\n",
              "  0.5503700971603394,\n",
              "  0.5415396094322205,\n",
              "  0.5340322256088257,\n",
              "  0.525637686252594,\n",
              "  0.5183854699134827,\n",
              "  0.511441707611084,\n",
              "  0.5050190687179565,\n",
              "  0.4979587495326996,\n",
              "  0.49143171310424805,\n",
              "  0.4853590428829193,\n",
              "  0.4789150357246399,\n",
              "  0.4729539155960083,\n",
              "  0.4673560857772827,\n",
              "  0.46144726872444153,\n",
              "  0.45549505949020386,\n",
              "  0.45009225606918335,\n",
              "  0.4451395869255066,\n",
              "  0.4397582709789276,\n",
              "  0.43488022685050964,\n",
              "  0.43016937375068665,\n",
              "  0.4258056879043579,\n",
              "  0.4213171899318695,\n",
              "  0.41705137491226196,\n",
              "  0.41274020075798035,\n",
              "  0.4086126685142517,\n",
              "  0.4049813151359558,\n",
              "  0.40143099427223206,\n",
              "  0.3976694643497467,\n",
              "  0.3938145041465759,\n",
              "  0.39045417308807373,\n",
              "  0.3869663178920746,\n",
              "  0.3836691975593567,\n",
              "  0.3808760941028595,\n",
              "  0.3776373267173767,\n",
              "  0.37466564774513245,\n",
              "  0.3719025254249573,\n",
              "  0.3690497577190399,\n",
              "  0.3662307858467102,\n",
              "  0.36355316638946533,\n",
              "  0.36080291867256165,\n",
              "  0.3582959473133087,\n",
              "  0.3554677665233612,\n",
              "  0.353318989276886,\n",
              "  0.350930392742157,\n",
              "  0.3484541177749634,\n",
              "  0.34624871611595154,\n",
              "  0.3442220687866211,\n",
              "  0.3422234356403351,\n",
              "  0.3400333523750305,\n",
              "  0.33831551671028137,\n",
              "  0.33642956614494324,\n",
              "  0.3344081938266754,\n",
              "  0.3326203227043152,\n",
              "  0.3307268023490906,\n",
              "  0.32915619015693665,\n",
              "  0.32706403732299805,\n",
              "  0.3255434036254883,\n",
              "  0.32392174005508423,\n",
              "  0.3223287761211395,\n",
              "  0.32092154026031494,\n",
              "  0.31920430064201355,\n",
              "  0.3181265592575073,\n",
              "  0.31639209389686584,\n",
              "  0.3150562047958374,\n",
              "  0.31369903683662415,\n",
              "  0.3125167787075043,\n",
              "  0.3111347556114197,\n",
              "  0.3098350763320923,\n",
              "  0.3085634112358093,\n",
              "  0.3071778118610382,\n",
              "  0.3058857023715973,\n",
              "  0.30505234003067017,\n",
              "  0.3037612736225128,\n",
              "  0.30248209834098816],\n",
              " 'val_loss': [7.408703804016113,\n",
              "  5.961373805999756,\n",
              "  4.87286376953125,\n",
              "  4.025195121765137,\n",
              "  3.3546741008758545,\n",
              "  2.823796272277832,\n",
              "  2.401639699935913,\n",
              "  2.071920394897461,\n",
              "  1.80753493309021,\n",
              "  1.5982666015625,\n",
              "  1.4333148002624512,\n",
              "  1.302610993385315,\n",
              "  1.1950825452804565,\n",
              "  1.1079294681549072,\n",
              "  1.0365262031555176,\n",
              "  0.9772902131080627,\n",
              "  0.9262300729751587,\n",
              "  0.8816590309143066,\n",
              "  0.8436176776885986,\n",
              "  0.8084429502487183,\n",
              "  0.777082085609436,\n",
              "  0.7487973570823669,\n",
              "  0.7221651673316956,\n",
              "  0.6981115937232971,\n",
              "  0.6754465103149414,\n",
              "  0.6545615196228027,\n",
              "  0.6348466873168945,\n",
              "  0.6154311895370483,\n",
              "  0.5978890657424927,\n",
              "  0.5809362530708313,\n",
              "  0.5649749040603638,\n",
              "  0.5499988794326782,\n",
              "  0.5361120104789734,\n",
              "  0.5227652788162231,\n",
              "  0.5097330808639526,\n",
              "  0.49683162569999695,\n",
              "  0.48451370000839233,\n",
              "  0.4727601706981659,\n",
              "  0.4617858827114105,\n",
              "  0.4510899484157562,\n",
              "  0.44130605459213257,\n",
              "  0.4317978322505951,\n",
              "  0.42275121808052063,\n",
              "  0.4138687252998352,\n",
              "  0.4056037366390228,\n",
              "  0.39738595485687256,\n",
              "  0.389666348695755,\n",
              "  0.38202956318855286,\n",
              "  0.3746815621852875,\n",
              "  0.367648720741272,\n",
              "  0.3609238862991333,\n",
              "  0.3544878363609314,\n",
              "  0.34864866733551025,\n",
              "  0.34234634041786194,\n",
              "  0.3369620442390442,\n",
              "  0.33170297741889954,\n",
              "  0.32616183161735535,\n",
              "  0.32066452503204346,\n",
              "  0.3154480457305908,\n",
              "  0.3109246492385864,\n",
              "  0.30636709928512573,\n",
              "  0.3018408417701721,\n",
              "  0.29762446880340576,\n",
              "  0.2935504913330078,\n",
              "  0.28955134749412537,\n",
              "  0.2854214608669281,\n",
              "  0.2819400131702423,\n",
              "  0.27850884199142456,\n",
              "  0.2750625014305115,\n",
              "  0.2715212106704712,\n",
              "  0.2680456340312958,\n",
              "  0.26498162746429443,\n",
              "  0.2617628574371338,\n",
              "  0.2587566077709198,\n",
              "  0.25583672523498535,\n",
              "  0.25269973278045654,\n",
              "  0.25002965331077576,\n",
              "  0.2475537806749344,\n",
              "  0.2451573759317398,\n",
              "  0.24261081218719482,\n",
              "  0.23998859524726868,\n",
              "  0.23768125474452972,\n",
              "  0.23546242713928223,\n",
              "  0.23311252892017365,\n",
              "  0.23097501695156097,\n",
              "  0.22877733409404755,\n",
              "  0.22680161893367767,\n",
              "  0.22455516457557678,\n",
              "  0.22259296476840973,\n",
              "  0.22080902755260468,\n",
              "  0.2188209593296051,\n",
              "  0.21683917939662933,\n",
              "  0.21508090198040009,\n",
              "  0.21378226578235626,\n",
              "  0.21219989657402039,\n",
              "  0.2105519324541092,\n",
              "  0.20872987806797028,\n",
              "  0.2072431445121765,\n",
              "  0.20568807423114777,\n",
              "  0.20424345135688782],\n",
              " 'val_mae': [2.619948625564575,\n",
              "  2.328784227371216,\n",
              "  2.080631971359253,\n",
              "  1.864842414855957,\n",
              "  1.6778233051300049,\n",
              "  1.5114469528198242,\n",
              "  1.366168737411499,\n",
              "  1.2436310052871704,\n",
              "  1.1412925720214844,\n",
              "  1.0606110095977783,\n",
              "  0.9932738542556763,\n",
              "  0.9404829144477844,\n",
              "  0.896224319934845,\n",
              "  0.8587119579315186,\n",
              "  0.8260075449943542,\n",
              "  0.7975581884384155,\n",
              "  0.7727228403091431,\n",
              "  0.7506221532821655,\n",
              "  0.7314942479133606,\n",
              "  0.7135100364685059,\n",
              "  0.6973166465759277,\n",
              "  0.6826332211494446,\n",
              "  0.6691457629203796,\n",
              "  0.6574231386184692,\n",
              "  0.6461437940597534,\n",
              "  0.6362634897232056,\n",
              "  0.6267549991607666,\n",
              "  0.6171813011169434,\n",
              "  0.608877420425415,\n",
              "  0.6009113788604736,\n",
              "  0.5931995511054993,\n",
              "  0.5858699083328247,\n",
              "  0.5789947509765625,\n",
              "  0.5722392201423645,\n",
              "  0.5654723048210144,\n",
              "  0.5586689710617065,\n",
              "  0.5520651340484619,\n",
              "  0.545656681060791,\n",
              "  0.5395880341529846,\n",
              "  0.5335472226142883,\n",
              "  0.5279481410980225,\n",
              "  0.5223356485366821,\n",
              "  0.5169152617454529,\n",
              "  0.5114427208900452,\n",
              "  0.5063136219978333,\n",
              "  0.5010829567909241,\n",
              "  0.4960716962814331,\n",
              "  0.4909900724887848,\n",
              "  0.4860142767429352,\n",
              "  0.4814895689487457,\n",
              "  0.4772702753543854,\n",
              "  0.4733937978744507,\n",
              "  0.46994444727897644,\n",
              "  0.4659491181373596,\n",
              "  0.46262529492378235,\n",
              "  0.45930472016334534,\n",
              "  0.4556018114089966,\n",
              "  0.4518529772758484,\n",
              "  0.44824326038360596,\n",
              "  0.44515734910964966,\n",
              "  0.4419463276863098,\n",
              "  0.43866074085235596,\n",
              "  0.43558791279792786,\n",
              "  0.4325622022151947,\n",
              "  0.4295435845851898,\n",
              "  0.4263194799423218,\n",
              "  0.4236927628517151,\n",
              "  0.42108798027038574,\n",
              "  0.41834917664527893,\n",
              "  0.4154776632785797,\n",
              "  0.4126088321208954,\n",
              "  0.41010797023773193,\n",
              "  0.4073813557624817,\n",
              "  0.4048647880554199,\n",
              "  0.40240997076034546,\n",
              "  0.399665504693985,\n",
              "  0.3974432647228241,\n",
              "  0.3953915238380432,\n",
              "  0.3933914303779602,\n",
              "  0.3911992609500885,\n",
              "  0.38887840509414673,\n",
              "  0.386853963136673,\n",
              "  0.3849062919616699,\n",
              "  0.38277238607406616,\n",
              "  0.3808503746986389,\n",
              "  0.3788129985332489,\n",
              "  0.3770204186439514,\n",
              "  0.3748895823955536,\n",
              "  0.37316837906837463,\n",
              "  0.37167152762413025,\n",
              "  0.36984124779701233,\n",
              "  0.3679751753807068,\n",
              "  0.36638298630714417,\n",
              "  0.3654422461986542,\n",
              "  0.3640671670436859,\n",
              "  0.36251527070999146,\n",
              "  0.3606669306755066,\n",
              "  0.3592940866947174,\n",
              "  0.3577721416950226,\n",
              "  0.3564252257347107]}"
            ]
          },
          "metadata": {},
          "execution_count": 32
        }
      ]
    },
    {
      "cell_type": "code",
      "source": [
        "pd.DataFrame(model_history.history).plot(figsize =(8,5))\n",
        "plt.grid(True)\n",
        "plt.gca().set_ylim(0,1)\n",
        "plt.show()"
      ],
      "metadata": {
        "colab": {
          "base_uri": "https://localhost:8080/",
          "height": 324
        },
        "id": "N5qLhf2KMIO3",
        "outputId": "75bb2132-e1ad-4b1a-a3a7-92a19b8c97ef"
      },
      "execution_count": null,
      "outputs": [
        {
          "output_type": "display_data",
          "data": {
            "text/plain": [
              "<Figure size 576x360 with 1 Axes>"
            ],
            "image/png": "[encoded data removed]"
          },
          "metadata": {
            "needs_background": "light"
          }
        }
      ]
    },
    {
      "cell_type": "code",
      "source": [
        "x_new = x_test[:5]"
      ],
      "metadata": {
        "id": "o0zo61IpMZs2"
      },
      "execution_count": null,
      "outputs": []
    },
    {
      "cell_type": "code",
      "source": [
        "x_new"
      ],
      "metadata": {
        "colab": {
          "base_uri": "https://localhost:8080/"
        },
        "id": "4LJXQzZpMs7X",
        "outputId": "2a2bfa07-2da1-4276-f3c8-78c4169f0bf4"
      },
      "execution_count": null,
      "outputs": [
        {
          "output_type": "execute_result",
          "data": {
            "text/plain": [
              "array([[-0.44266208, -1.02614886,  0.38963381,  0.17868888,  0.53249944,\n",
              "         0.51973978,  0.49371081,  0.54760731,  0.56866681, -0.29573723,\n",
              "         0.24587303,  1.2119233 , -1.47737723,  1.65755423, -0.06831227,\n",
              "         0.83094897, -0.72586619, -0.50659369,  1.48020648],\n",
              "       [-0.4472429 , -0.69071378,  0.92307081,  0.66563386, -1.30219665,\n",
              "        -0.07919485, -0.13613263, -0.16729666, -0.04627728,  0.8956014 ,\n",
              "         0.86778136,  1.68205187, -0.21397019, -0.67366446, -1.12199413,\n",
              "        -1.20344334,  1.37766439, -0.50659369, -0.67558142],\n",
              "       [-0.44085257,  2.34099388, -0.44862433, -0.43782334,  1.05925789,\n",
              "         0.92200931,  0.88680459,  0.86287552,  0.85145132, -1.33815853,\n",
              "        -0.98658199, -0.48441691,  0.91469946,  0.69291202,  0.14427266,\n",
              "        -1.20344334, -0.72586619, -0.50659369,  1.48020648],\n",
              "       [-0.44268023, -0.06532636,  1.21095744, -0.32107045, -2.20162774,\n",
              "        -0.64237218, -0.57389615, -0.71346553, -0.65673272, -1.07010734,\n",
              "         0.72351318, -1.22111323, -1.48128267, -1.47753297, -1.72277764,\n",
              "        -1.20344334,  1.37766439, -0.50659369, -0.67558142],\n",
              "       [ 0.20523665,  0.97082689, -1.32921874,  0.0092548 ,  0.80842054,\n",
              "         0.68958692,  0.63218703,  0.7252232 ,  0.58213274,  0.12123129,\n",
              "        -0.56643381, -0.69645944,  1.53712758, -1.39714612,  0.91142699,\n",
              "        -1.20344334, -0.72586619, -0.50659369,  1.48020648]])"
            ]
          },
          "metadata": {},
          "execution_count": 35
        }
      ]
    },
    {
      "cell_type": "code",
      "source": [
        "y_pred = model.predict(x_new)"
      ],
      "metadata": {
        "id": "iomN6JYGMtsl"
      },
      "execution_count": null,
      "outputs": []
    },
    {
      "cell_type": "code",
      "source": [
        "y_pred"
      ],
      "metadata": {
        "colab": {
          "base_uri": "https://localhost:8080/"
        },
        "id": "4Hm0FoUqMziF",
        "outputId": "4d25ef43-d310-4f46-c907-415d70865ea8"
      },
      "execution_count": null,
      "outputs": [
        {
          "output_type": "execute_result",
          "data": {
            "text/plain": [
              "array([[2.4928284],\n",
              "       [2.4419906],\n",
              "       [1.7999651],\n",
              "       [2.38885  ],\n",
              "       [1.5561043]], dtype=float32)"
            ]
          },
          "metadata": {},
          "execution_count": 37
        }
      ]
    },
    {
      "cell_type": "code",
      "source": [
        "y_test[5:]"
      ],
      "metadata": {
        "colab": {
          "base_uri": "https://localhost:8080/",
          "height": 424
        },
        "id": "6T_k6jwyM0pQ",
        "outputId": "336f370b-7aec-4874-c96a-578aacbb93dc"
      },
      "execution_count": null,
      "outputs": [
        {
          "output_type": "execute_result",
          "data": {
            "text/plain": [
              "     Collection\n",
              "76     2.000000\n",
              "316    1.853333\n",
              "140    1.600000\n",
              "471    1.973333\n",
              "500    1.786667\n",
              "..          ...\n",
              "418    1.253333\n",
              "117    1.946667\n",
              "42     2.353333\n",
              "322    2.026667\n",
              "347    2.206667\n",
              "\n",
              "[122 rows x 1 columns]"
            ],
            "text/html": [
              "\n",
              "  <div id=\"df-c59b8b45-93b4-4aa5-8c81-8f886ae273be\">\n",
              "    <div class=\"colab-df-container\">\n",
              "      <div>\n",
              "<style scoped>\n",
              "    .dataframe tbody tr th:only-of-type {\n",
              "        vertical-align: middle;\n",
              "    }\n",
              "\n",
              "    .dataframe tbody tr th {\n",
              "        vertical-align: top;\n",
              "    }\n",
              "\n",
              "    .dataframe thead th {\n",
              "        text-align: right;\n",
              "    }\n",
              "</style>\n",
              "<table border=\"1\" class=\"dataframe\">\n",
              "  <thead>\n",
              "    <tr style=\"text-align: right;\">\n",
              "      <th></th>\n",
              "      <th>Collection</th>\n",
              "    </tr>\n",
              "  </thead>\n",
              "  <tbody>\n",
              "    <tr>\n",
              "      <th>76</th>\n",
              "      <td>2.000000</td>\n",
              "    </tr>\n",
              "    <tr>\n",
              "      <th>316</th>\n",
              "      <td>1.853333</td>\n",
              "    </tr>\n",
              "    <tr>\n",
              "      <th>140</th>\n",
              "      <td>1.600000</td>\n",
              "    </tr>\n",
              "    <tr>\n",
              "      <th>471</th>\n",
              "      <td>1.973333</td>\n",
              "    </tr>\n",
              "    <tr>\n",
              "      <th>500</th>\n",
              "      <td>1.786667</td>\n",
              "    </tr>\n",
              "    <tr>\n",
              "      <th>...</th>\n",
              "      <td>...</td>\n",
              "    </tr>\n",
              "    <tr>\n",
              "      <th>418</th>\n",
              "      <td>1.253333</td>\n",
              "    </tr>\n",
              "    <tr>\n",
              "      <th>117</th>\n",
              "      <td>1.946667</td>\n",
              "    </tr>\n",
              "    <tr>\n",
              "      <th>42</th>\n",
              "      <td>2.353333</td>\n",
              "    </tr>\n",
              "    <tr>\n",
              "      <th>322</th>\n",
              "      <td>2.026667</td>\n",
              "    </tr>\n",
              "    <tr>\n",
              "      <th>347</th>\n",
              "      <td>2.206667</td>\n",
              "    </tr>\n",
              "  </tbody>\n",
              "</table>\n",
              "<p>122 rows × 1 columns</p>\n",
              "</div>\n",
              "      <button class=\"colab-df-convert\" onclick=\"convertToInteractive('df-c59b8b45-93b4-4aa5-8c81-8f886ae273be')\"\n",
              "              title=\"Convert this dataframe to an interactive table.\"\n",
              "              style=\"display:none;\">\n",
              "        \n",
              "  <svg xmlns=\"http://www.w3.org/2000/svg\" height=\"24px\"viewBox=\"0 0 24 24\"\n",
              "       width=\"24px\">\n",
              "    <path d=\"M0 0h24v24H0V0z\" fill=\"none\"/>\n",
              "    <path d=\"M18.56 5.44l.94 2.06.94-2.06 2.06-.94-2.06-.94-.94-2.06-.94 2.06-2.06.94zm-11 1L8.5 8.5l.94-2.06 2.06-.94-2.06-.94L8.5 2.5l-.94 2.06-2.06.94zm10 10l.94 2.06.94-2.06 2.06-.94-2.06-.94-.94-2.06-.94 2.06-2.06.94z\"/><path d=\"M17.41 7.96l-1.37-1.37c-.4-.4-.92-.59-1.43-.59-.52 0-1.04.2-1.43.59L10.3 9.45l-7.72 7.72c-.78.78-.78 2.05 0 2.83L4 21.41c.39.39.9.59 1.41.59.51 0 1.02-.2 1.41-.59l7.78-7.78 2.81-2.81c.8-.78.8-2.07 0-2.86zM5.41 20L4 18.59l7.72-7.72 1.47 1.35L5.41 20z\"/>\n",
              "  </svg>\n",
              "      </button>\n",
              "      \n",
              "  <style>\n",
              "    .colab-df-container {\n",
              "      display:flex;\n",
              "      flex-wrap:wrap;\n",
              "      gap: 12px;\n",
              "    }\n",
              "\n",
              "    .colab-df-convert {\n",
              "      background-color: #E8F0FE;\n",
              "      border: none;\n",
              "      border-radius: 50%;\n",
              "      cursor: pointer;\n",
              "      display: none;\n",
              "      fill: #1967D2;\n",
              "      height: 32px;\n",
              "      padding: 0 0 0 0;\n",
              "      width: 32px;\n",
              "    }\n",
              "\n",
              "    .colab-df-convert:hover {\n",
              "      background-color: #E2EBFA;\n",
              "      box-shadow: 0px 1px 2px rgba(60, 64, 67, 0.3), 0px 1px 3px 1px rgba(60, 64, 67, 0.15);\n",
              "      fill: #174EA6;\n",
              "    }\n",
              "\n",
              "    [theme=dark] .colab-df-convert {\n",
              "      background-color: #3B4455;\n",
              "      fill: #D2E3FC;\n",
              "    }\n",
              "\n",
              "    [theme=dark] .colab-df-convert:hover {\n",
              "      background-color: #434B5C;\n",
              "      box-shadow: 0px 1px 3px 1px rgba(0, 0, 0, 0.15);\n",
              "      filter: drop-shadow(0px 1px 2px rgba(0, 0, 0, 0.3));\n",
              "      fill: #FFFFFF;\n",
              "    }\n",
              "  </style>\n",
              "\n",
              "      <script>\n",
              "        const buttonEl =\n",
              "          document.querySelector('#df-c59b8b45-93b4-4aa5-8c81-8f886ae273be button.colab-df-convert');\n",
              "        buttonEl.style.display =\n",
              "          google.colab.kernel.accessAllowed ? 'block' : 'none';\n",
              "\n",
              "        async function convertToInteractive(key) {\n",
              "          const element = document.querySelector('#df-c59b8b45-93b4-4aa5-8c81-8f886ae273be');\n",
              "          const dataTable =\n",
              "            await google.colab.kernel.invokeFunction('convertToInteractive',\n",
              "                                                     [key], {});\n",
              "          if (!dataTable) return;\n",
              "\n",
              "          const docLinkHtml = 'Like what you see? Visit the ' +\n",
              "            '<a target=\"_blank\" href=https://colab.research.google.com/notebooks/data_table.ipynb>data table notebook</a>'\n",
              "            + ' to learn more about interactive tables.';\n",
              "          element.innerHTML = '';\n",
              "          dataTable['output_type'] = 'display_data';\n",
              "          await google.colab.output.renderOutput(dataTable, element);\n",
              "          const docLink = document.createElement('div');\n",
              "          docLink.innerHTML = docLinkHtml;\n",
              "          element.appendChild(docLink);\n",
              "        }\n",
              "      </script>\n",
              "    </div>\n",
              "  </div>\n",
              "  "
            ]
          },
          "metadata": {},
          "execution_count": 38
        }
      ]
    },
    {
      "cell_type": "code",
      "source": [
        ""
      ],
      "metadata": {
        "id": "t2Mu_XDvM3Je"
      },
      "execution_count": null,
      "outputs": []
    }
  ]
}