{
  "cells": [
    {
      "cell_type": "code",
      "execution_count": null,
      "metadata": {
        "id": "quiW-bQiNiB7"
      },
      "outputs": [],
      "source": [
        "import numpy as np\n",
        "import pandas as pd\n",
        "%matplotlib inline\n",
        "import matplotlib as mpl\n",
        "import matplotlib.pyplot as plt\n",
        "import tensorflow as tf\n",
        "from tensorflow import keras"
      ]
    },
    {
      "cell_type": "code",
      "execution_count": null,
      "metadata": {
        "colab": {
          "base_uri": "https://localhost:8080/"
        },
        "id": "yJ7Q5dQAOTrR",
        "outputId": "a9d75f25-42dd-414e-96ad-ecfbc13ccfba"
      },
      "outputs": [
        {
          "name": "stdout",
          "output_type": "stream",
          "text": [
            "Downloading data from https://storage.googleapis.com/tensorflow/tf-keras-datasets/mnist.npz\n",
            "11493376/11490434 [==============================] - 0s 0us/step\n",
            "11501568/11490434 [==============================] - 0s 0us/step\n"
          ]
        }
      ],
      "source": [
        "from keras.datasets import mnist\n",
        "(X_train_full,y_train_full),(X_test,y_test) = mnist.load_data()"
      ]
    },
    {
      "cell_type": "code",
      "execution_count": null,
      "metadata": {
        "colab": {
          "base_uri": "https://localhost:8080/",
          "height": 282
        },
        "id": "yYtUfpc3OWbm",
        "outputId": "d2b353c8-1399-4533-ec5e-38e1647e3a7c"
      },
      "outputs": [
        {
          "data": {
            "text/plain": [
              "<matplotlib.image.AxesImage at 0x7f1c129a1d10>"
            ]
          },
          "execution_count": 3,
          "metadata": {},
          "output_type": "execute_result"
        },
        {
          "data": {
            "image/png": "[encoded data removed]",
            "text/plain": [
              "<Figure size 432x288 with 1 Axes>"
            ]
          },
          "metadata": {},
          "output_type": "display_data"
        }
      ],
      "source": [
        "plt.imshow(X_train_full[2])"
      ]
    },
    {
      "cell_type": "code",
      "execution_count": null,
      "metadata": {
        "id": "SZwB72IiObtS"
      },
      "outputs": [],
      "source": [
        "X_train_full = X_train_full.reshape((60000,28,28,1))\n",
        "X_test =X_test.reshape((10000,28,28,1))"
      ]
    },
    {
      "cell_type": "code",
      "execution_count": null,
      "metadata": {
        "id": "UQk9_jFJO0G5"
      },
      "outputs": [],
      "source": [
        "X_train_n = X_train_full/255.\n",
        "X_test_n =X_test/255."
      ]
    },
    {
      "cell_type": "code",
      "execution_count": null,
      "metadata": {
        "id": "6ZJCUpyLO3nn"
      },
      "outputs": [],
      "source": [
        "X_valid,X_train =X_train_n[:6000],X_train_n[6000:]\n",
        "y_valid,y_train = y_train_full[:6000],y_train_full[6000:]\n",
        "X_test = X_test_n"
      ]
    },
    {
      "cell_type": "code",
      "execution_count": null,
      "metadata": {
        "id": "G4FukBRdPBA3"
      },
      "outputs": [],
      "source": [
        "np.random.seed(42)\n",
        "tf.random.set_seed(42)"
      ]
    },
    {
      "cell_type": "code",
      "execution_count": null,
      "metadata": {
        "id": "3yp0ucLRPEvz"
      },
      "outputs": [],
      "source": [
        "Model_A = keras.models.Sequential()\n",
        "Model_A.add(keras.layers.Conv2D(filters =32 ,kernel_size =(3,3),strides =1,padding =\"valid\",activation ='relu',input_shape =(28,28,1)))\n",
        "Model_A.add(keras.layers.MaxPool2D(2,2))\n",
        "Model_A.add(keras.layers.Flatten())\n",
        "Model_A.add(keras.layers.Dense(200,activation ='relu'))\n",
        "Model_A.add(keras.layers.Dense(100,activation ='relu'))\n",
        "Model_A.add(keras.layers.Dense(10,activation ='softmax'))"
      ]
    },
    {
      "cell_type": "code",
      "execution_count": null,
      "metadata": {
        "colab": {
          "base_uri": "https://localhost:8080/"
        },
        "id": "p3hqW4G7Pkt0",
        "outputId": "b20ea2c1-00d5-4a15-fa40-88b52c902b99"
      },
      "outputs": [
        {
          "name": "stdout",
          "output_type": "stream",
          "text": [
            "Model: \"sequential\"\n",
            "_________________________________________________________________\n",
            " Layer (type)                Output Shape              Param #   \n",
            "=================================================================\n",
            " conv2d (Conv2D)             (None, 26, 26, 32)        320       \n",
            "                                                                 \n",
            " max_pooling2d (MaxPooling2D  (None, 13, 13, 32)       0         \n",
            " )                                                               \n",
            "                                                                 \n",
            " flatten (Flatten)           (None, 5408)              0         \n",
            "                                                                 \n",
            " dense (Dense)               (None, 200)               1081800   \n",
            "                                                                 \n",
            " dense_1 (Dense)             (None, 100)               20100     \n",
            "                                                                 \n",
            " dense_2 (Dense)             (None, 10)                1010      \n",
            "                                                                 \n",
            "=================================================================\n",
            "Total params: 1,103,230\n",
            "Trainable params: 1,103,230\n",
            "Non-trainable params: 0\n",
            "_________________________________________________________________\n"
          ]
        }
      ],
      "source": [
        "Model_A.summary()"
      ]
    },
    {
      "cell_type": "code",
      "execution_count": null,
      "metadata": {
        "id": "WqrmPuIqPn7c"
      },
      "outputs": [],
      "source": [
        "## Compiling and the training the neural network\n",
        "Model_A.compile(loss =\"sparse_categorical_crossentropy\",optimizer=\"sgd\", metrics =[\"accuracy\"])"
      ]
    },
    {
      "cell_type": "code",
      "execution_count": null,
      "metadata": {
        "colab": {
          "background_save": true,
          "base_uri": "https://localhost:8080/"
        },
        "id": "ZO49Lr7RP6OC",
        "outputId": "48627be4-f655-4c16-de05-c800ab5ad78a"
      },
      "outputs": [
        {
          "name": "stdout",
          "output_type": "stream",
          "text": [
            "Epoch 1/30\n",
            "844/844 [==============================] - 37s 43ms/step - loss: 0.7421 - accuracy: 0.8111 - val_loss: 0.2898 - val_accuracy: 0.9147\n",
            "Epoch 2/30\n",
            "844/844 [==============================] - 33s 39ms/step - loss: 0.2715 - accuracy: 0.9196 - val_loss: 0.2195 - val_accuracy: 0.9385\n",
            "Epoch 3/30\n",
            "844/844 [==============================] - 33s 39ms/step - loss: 0.2108 - accuracy: 0.9370 - val_loss: 0.1760 - val_accuracy: 0.9485\n",
            "Epoch 4/30\n",
            "844/844 [==============================] - 33s 40ms/step - loss: 0.1731 - accuracy: 0.9473 - val_loss: 0.1450 - val_accuracy: 0.9578\n",
            "Epoch 5/30\n",
            "844/844 [==============================] - 35s 41ms/step - loss: 0.1468 - accuracy: 0.9552 - val_loss: 0.1286 - val_accuracy: 0.9610\n",
            "Epoch 6/30\n",
            "844/844 [==============================] - 42s 49ms/step - loss: 0.1280 - accuracy: 0.9615 - val_loss: 0.1178 - val_accuracy: 0.9655\n",
            "Epoch 7/30\n",
            "844/844 [==============================] - 40s 47ms/step - loss: 0.1136 - accuracy: 0.9664 - val_loss: 0.1052 - val_accuracy: 0.9683\n",
            "Epoch 8/30\n",
            "844/844 [==============================] - 37s 44ms/step - loss: 0.1026 - accuracy: 0.9701 - val_loss: 0.0977 - val_accuracy: 0.9710\n",
            "Epoch 9/30\n",
            "844/844 [==============================] - 36s 42ms/step - loss: 0.0937 - accuracy: 0.9719 - val_loss: 0.0906 - val_accuracy: 0.9722\n",
            "Epoch 10/30\n",
            "844/844 [==============================] - 39s 46ms/step - loss: 0.0857 - accuracy: 0.9745 - val_loss: 0.0876 - val_accuracy: 0.9728\n",
            "Epoch 11/30\n",
            "844/844 [==============================] - 34s 41ms/step - loss: 0.0788 - accuracy: 0.9767 - val_loss: 0.0814 - val_accuracy: 0.9733\n",
            "Epoch 12/30\n",
            "844/844 [==============================] - 33s 39ms/step - loss: 0.0733 - accuracy: 0.9782 - val_loss: 0.0789 - val_accuracy: 0.9757\n",
            "Epoch 13/30\n",
            "844/844 [==============================] - 33s 39ms/step - loss: 0.0683 - accuracy: 0.9799 - val_loss: 0.0743 - val_accuracy: 0.9755\n",
            "Epoch 14/30\n",
            "844/844 [==============================] - 33s 39ms/step - loss: 0.0633 - accuracy: 0.9817 - val_loss: 0.0697 - val_accuracy: 0.9788\n",
            "Epoch 15/30\n",
            "844/844 [==============================] - 34s 40ms/step - loss: 0.0598 - accuracy: 0.9826 - val_loss: 0.0721 - val_accuracy: 0.9780\n",
            "Epoch 16/30\n",
            "844/844 [==============================] - 34s 40ms/step - loss: 0.0560 - accuracy: 0.9831 - val_loss: 0.0657 - val_accuracy: 0.9798\n",
            "Epoch 17/30\n",
            "844/844 [==============================] - 33s 39ms/step - loss: 0.0528 - accuracy: 0.9846 - val_loss: 0.0720 - val_accuracy: 0.9795\n",
            "Epoch 18/30\n",
            "844/844 [==============================] - 33s 39ms/step - loss: 0.0492 - accuracy: 0.9853 - val_loss: 0.0623 - val_accuracy: 0.9803\n",
            "Epoch 19/30\n",
            "844/844 [==============================] - 34s 40ms/step - loss: 0.0471 - accuracy: 0.9859 - val_loss: 0.0712 - val_accuracy: 0.9782\n",
            "Epoch 20/30\n",
            "844/844 [==============================] - 35s 41ms/step - loss: 0.0436 - accuracy: 0.9872 - val_loss: 0.0679 - val_accuracy: 0.9797\n",
            "Epoch 21/30\n",
            "844/844 [==============================] - 35s 41ms/step - loss: 0.0418 - accuracy: 0.9873 - val_loss: 0.0624 - val_accuracy: 0.9815\n",
            "Epoch 22/30\n",
            "844/844 [==============================] - 34s 40ms/step - loss: 0.0394 - accuracy: 0.9877 - val_loss: 0.0613 - val_accuracy: 0.9805\n",
            "Epoch 23/30\n",
            "844/844 [==============================] - 34s 40ms/step - loss: 0.0372 - accuracy: 0.9896 - val_loss: 0.0674 - val_accuracy: 0.9803\n",
            "Epoch 24/30\n",
            "844/844 [==============================] - 34s 40ms/step - loss: 0.0351 - accuracy: 0.9899 - val_loss: 0.0589 - val_accuracy: 0.9832\n",
            "Epoch 25/30\n",
            "844/844 [==============================] - 33s 39ms/step - loss: 0.0334 - accuracy: 0.9902 - val_loss: 0.0610 - val_accuracy: 0.9808\n",
            "Epoch 26/30\n",
            "844/844 [==============================] - 34s 41ms/step - loss: 0.0320 - accuracy: 0.9905 - val_loss: 0.0613 - val_accuracy: 0.9813\n",
            "Epoch 27/30\n",
            "844/844 [==============================] - 35s 42ms/step - loss: 0.0296 - accuracy: 0.9916 - val_loss: 0.0561 - val_accuracy: 0.9828\n",
            "Epoch 28/30\n",
            "844/844 [==============================] - 35s 41ms/step - loss: 0.0285 - accuracy: 0.9917 - val_loss: 0.0599 - val_accuracy: 0.9813\n",
            "Epoch 29/30\n",
            "844/844 [==============================] - 35s 41ms/step - loss: 0.0272 - accuracy: 0.9921 - val_loss: 0.0662 - val_accuracy: 0.9805\n",
            "Epoch 30/30\n",
            "844/844 [==============================] - 34s 41ms/step - loss: 0.0257 - accuracy: 0.9927 - val_loss: 0.0560 - val_accuracy: 0.9825\n"
          ]
        }
      ],
      "source": [
        "model_history = Model_A.fit(X_train , y_train, epochs =30, batch_size = 64 ,\n",
        "                          validation_data = (X_valid,y_valid))"
      ]
    },
    {
      "cell_type": "code",
      "execution_count": null,
      "metadata": {
        "colab": {
          "base_uri": "https://localhost:8080/",
          "height": 324
        },
        "id": "eEVavEqkQBo5",
        "outputId": "3c5637ae-6ece-4bac-9fdd-317038c66253"
      },
      "outputs": [
        {
          "data": {
            "image/png": "[encoded data removed]",
            "text/plain": [
              "<Figure size 576x360 with 1 Axes>"
            ]
          },
          "metadata": {},
          "output_type": "display_data"
        }
      ],
      "source": [
        "import pandas as pd\n",
        "pd.DataFrame(model_history.history).plot(figsize=(8,5))\n",
        "plt.grid(True)\n",
        "plt.gca().set_ylim(0,1)\n",
        "plt.show()"
      ]
    },
    {
      "cell_type": "code",
      "execution_count": null,
      "metadata": {
        "colab": {
          "base_uri": "https://localhost:8080/"
        },
        "id": "p9IT5EWPQK8t",
        "outputId": "cb081f5c-bdb6-4761-dc92-980daeb7872f"
      },
      "outputs": [
        {
          "name": "stdout",
          "output_type": "stream",
          "text": [
            "313/313 [==============================] - 1s 2ms/step - loss: 0.0551 - accuracy: 0.9816\n"
          ]
        }
      ],
      "source": [
        "ev = Model_A.evaluate(X_test_n,y_test)"
      ]
    },
    {
      "cell_type": "code",
      "execution_count": null,
      "metadata": {
        "id": "gg65Qg_XQw4k"
      },
      "outputs": [],
      "source": [
        "Model_B = keras.models.Sequential()\n",
        "Model_B.add(keras.layers.Conv2D(filters =64 ,kernel_size =(3,3),strides =1,padding =\"valid\",activation ='relu',input_shape =(28,28,1)))\n",
        "Model_B.add(keras.layers.MaxPool2D(2,2))\n",
        "Model_B.add(keras.layers.Flatten())\n",
        "Model_B.add(keras.layers.Dense(200,activation ='relu'))\n",
        "Model_B.add(keras.layers.Dense(100,activation ='relu'))\n",
        "Model_B.add(keras.layers.Dense(10,activation ='softmax'))"
      ]
    },
    {
      "cell_type": "code",
      "execution_count": null,
      "metadata": {
        "colab": {
          "base_uri": "https://localhost:8080/"
        },
        "id": "Nf5jpXT3Q6hD",
        "outputId": "fa477a2c-cfd4-4260-a275-43e40dfcd0fe"
      },
      "outputs": [
        {
          "name": "stdout",
          "output_type": "stream",
          "text": [
            "Model: \"sequential_1\"\n",
            "_________________________________________________________________\n",
            " Layer (type)                Output Shape              Param #   \n",
            "=================================================================\n",
            " conv2d_1 (Conv2D)           (None, 26, 26, 64)        640       \n",
            "                                                                 \n",
            " max_pooling2d_1 (MaxPooling  (None, 13, 13, 64)       0         \n",
            " 2D)                                                             \n",
            "                                                                 \n",
            " flatten_1 (Flatten)         (None, 10816)             0         \n",
            "                                                                 \n",
            " dense_3 (Dense)             (None, 200)               2163400   \n",
            "                                                                 \n",
            " dense_4 (Dense)             (None, 100)               20100     \n",
            "                                                                 \n",
            " dense_5 (Dense)             (None, 10)                1010      \n",
            "                                                                 \n",
            "=================================================================\n",
            "Total params: 2,185,150\n",
            "Trainable params: 2,185,150\n",
            "Non-trainable params: 0\n",
            "_________________________________________________________________\n"
          ]
        }
      ],
      "source": [
        "Model_B.summary()"
      ]
    },
    {
      "cell_type": "code",
      "execution_count": null,
      "metadata": {
        "id": "RDBCF26rREun"
      },
      "outputs": [],
      "source": [
        "## Compiling and the training the neural network\n",
        "Model_B.compile(loss =\"sparse_categorical_crossentropy\",optimizer=\"sgd\", metrics =[\"accuracy\"])"
      ]
    },
    {
      "cell_type": "code",
      "execution_count": null,
      "metadata": {
        "colab": {
          "base_uri": "https://localhost:8080/"
        },
        "id": "jNQeb2uiROp3",
        "outputId": "808ba580-f77d-4399-a4fb-bb21782992f3"
      },
      "outputs": [
        {
          "name": "stdout",
          "output_type": "stream",
          "text": [
            "Epoch 1/30\n",
            "844/844 [==============================] - 4s 4ms/step - loss: 0.6777 - accuracy: 0.8327 - val_loss: 0.2800 - val_accuracy: 0.9202\n",
            "Epoch 2/30\n",
            "844/844 [==============================] - 3s 4ms/step - loss: 0.2667 - accuracy: 0.9210 - val_loss: 0.2194 - val_accuracy: 0.9377\n",
            "Epoch 3/30\n",
            "844/844 [==============================] - 3s 4ms/step - loss: 0.2104 - accuracy: 0.9365 - val_loss: 0.1781 - val_accuracy: 0.9500\n",
            "Epoch 4/30\n",
            "844/844 [==============================] - 3s 4ms/step - loss: 0.1749 - accuracy: 0.9475 - val_loss: 0.1493 - val_accuracy: 0.9572\n",
            "Epoch 5/30\n",
            "844/844 [==============================] - 3s 4ms/step - loss: 0.1492 - accuracy: 0.9555 - val_loss: 0.1346 - val_accuracy: 0.9618\n",
            "Epoch 6/30\n",
            "844/844 [==============================] - 3s 4ms/step - loss: 0.1301 - accuracy: 0.9608 - val_loss: 0.1187 - val_accuracy: 0.9653\n",
            "Epoch 7/30\n",
            "844/844 [==============================] - 3s 4ms/step - loss: 0.1154 - accuracy: 0.9653 - val_loss: 0.1082 - val_accuracy: 0.9667\n",
            "Epoch 8/30\n",
            "844/844 [==============================] - 3s 4ms/step - loss: 0.1039 - accuracy: 0.9696 - val_loss: 0.0997 - val_accuracy: 0.9712\n",
            "Epoch 9/30\n",
            "844/844 [==============================] - 3s 4ms/step - loss: 0.0947 - accuracy: 0.9715 - val_loss: 0.0920 - val_accuracy: 0.9707\n",
            "Epoch 10/30\n",
            "844/844 [==============================] - 3s 4ms/step - loss: 0.0865 - accuracy: 0.9743 - val_loss: 0.0880 - val_accuracy: 0.9733\n",
            "Epoch 11/30\n",
            "844/844 [==============================] - 3s 4ms/step - loss: 0.0798 - accuracy: 0.9756 - val_loss: 0.0849 - val_accuracy: 0.9742\n",
            "Epoch 12/30\n",
            "844/844 [==============================] - 3s 4ms/step - loss: 0.0738 - accuracy: 0.9781 - val_loss: 0.0786 - val_accuracy: 0.9762\n",
            "Epoch 13/30\n",
            "844/844 [==============================] - 3s 4ms/step - loss: 0.0683 - accuracy: 0.9799 - val_loss: 0.0754 - val_accuracy: 0.9763\n",
            "Epoch 14/30\n",
            "844/844 [==============================] - 3s 4ms/step - loss: 0.0635 - accuracy: 0.9815 - val_loss: 0.0730 - val_accuracy: 0.9772\n",
            "Epoch 15/30\n",
            "844/844 [==============================] - 3s 4ms/step - loss: 0.0604 - accuracy: 0.9819 - val_loss: 0.0788 - val_accuracy: 0.9763\n",
            "Epoch 16/30\n",
            "844/844 [==============================] - 3s 4ms/step - loss: 0.0564 - accuracy: 0.9829 - val_loss: 0.0721 - val_accuracy: 0.9777\n",
            "Epoch 17/30\n",
            "844/844 [==============================] - 3s 4ms/step - loss: 0.0535 - accuracy: 0.9840 - val_loss: 0.0762 - val_accuracy: 0.9767\n",
            "Epoch 18/30\n",
            "844/844 [==============================] - 3s 4ms/step - loss: 0.0500 - accuracy: 0.9851 - val_loss: 0.0636 - val_accuracy: 0.9798\n",
            "Epoch 19/30\n",
            "844/844 [==============================] - 3s 4ms/step - loss: 0.0472 - accuracy: 0.9859 - val_loss: 0.0733 - val_accuracy: 0.9767\n",
            "Epoch 20/30\n",
            "844/844 [==============================] - 4s 4ms/step - loss: 0.0440 - accuracy: 0.9873 - val_loss: 0.0703 - val_accuracy: 0.9792\n",
            "Epoch 21/30\n",
            "844/844 [==============================] - 4s 5ms/step - loss: 0.0422 - accuracy: 0.9875 - val_loss: 0.0618 - val_accuracy: 0.9813\n",
            "Epoch 22/30\n",
            "844/844 [==============================] - 3s 4ms/step - loss: 0.0399 - accuracy: 0.9881 - val_loss: 0.0659 - val_accuracy: 0.9797\n",
            "Epoch 23/30\n",
            "844/844 [==============================] - 3s 4ms/step - loss: 0.0377 - accuracy: 0.9887 - val_loss: 0.0685 - val_accuracy: 0.9787\n",
            "Epoch 24/30\n",
            "844/844 [==============================] - 3s 4ms/step - loss: 0.0352 - accuracy: 0.9897 - val_loss: 0.0617 - val_accuracy: 0.9803\n",
            "Epoch 25/30\n",
            "844/844 [==============================] - 3s 4ms/step - loss: 0.0334 - accuracy: 0.9899 - val_loss: 0.0644 - val_accuracy: 0.9790\n",
            "Epoch 26/30\n",
            "844/844 [==============================] - 3s 4ms/step - loss: 0.0321 - accuracy: 0.9906 - val_loss: 0.0610 - val_accuracy: 0.9808\n",
            "Epoch 27/30\n",
            "844/844 [==============================] - 3s 4ms/step - loss: 0.0300 - accuracy: 0.9915 - val_loss: 0.0601 - val_accuracy: 0.9808\n",
            "Epoch 28/30\n",
            "844/844 [==============================] - 3s 4ms/step - loss: 0.0287 - accuracy: 0.9912 - val_loss: 0.0594 - val_accuracy: 0.9812\n",
            "Epoch 29/30\n",
            "844/844 [==============================] - 3s 4ms/step - loss: 0.0267 - accuracy: 0.9926 - val_loss: 0.0606 - val_accuracy: 0.9817\n",
            "Epoch 30/30\n",
            "844/844 [==============================] - 3s 4ms/step - loss: 0.0252 - accuracy: 0.9931 - val_loss: 0.0583 - val_accuracy: 0.9828\n"
          ]
        }
      ],
      "source": [
        "model_history = Model_B.fit(X_train , y_train, epochs =30, batch_size = 64 ,\n",
        "                          validation_data = (X_valid,y_valid))"
      ]
    },
    {
      "cell_type": "code",
      "execution_count": null,
      "metadata": {
        "colab": {
          "base_uri": "https://localhost:8080/",
          "height": 324
        },
        "id": "06PBgLfFRUl8",
        "outputId": "1abd9e76-edf1-44bd-e627-913ce7878fd8"
      },
      "outputs": [
        {
          "data": {
            "image/png": "[encoded data removed]",
            "text/plain": [
              "<Figure size 576x360 with 1 Axes>"
            ]
          },
          "metadata": {},
          "output_type": "display_data"
        }
      ],
      "source": [
        "import pandas as pd\n",
        "pd.DataFrame(model_history.history).plot(figsize=(8,5))\n",
        "plt.grid(True)\n",
        "plt.gca().set_ylim(0,1)\n",
        "plt.show()"
      ]
    },
    {
      "cell_type": "code",
      "execution_count": null,
      "metadata": {
        "colab": {
          "base_uri": "https://localhost:8080/"
        },
        "id": "BhBtBQAIRaF6",
        "outputId": "32d2d5dd-8441-48a0-9da4-13edfa351130"
      },
      "outputs": [
        {
          "name": "stdout",
          "output_type": "stream",
          "text": [
            "313/313 [==============================] - 1s 3ms/step - loss: 0.0537 - accuracy: 0.9829\n"
          ]
        }
      ],
      "source": [
        "ev = Model_B.evaluate(X_test_n,y_test)"
      ]
    }
  ],
  "metadata": {
    "accelerator": "GPU",
    "colab": {
      "name": "Handwritten_digit_classification.ipynb",
      "provenance": []
    },
    "gpuClass": "standard",
    "kernelspec": {
      "display_name": "Python 3",
      "name": "python3"
    },
    "language_info": {
      "name": "python"
    }
  },
  "nbformat": 4,
  "nbformat_minor": 0
}